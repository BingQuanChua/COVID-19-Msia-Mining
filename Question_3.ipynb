{
 "cells": [
  {
   "cell_type": "markdown",
   "id": "518327ae",
   "metadata": {},
   "source": [
    "# Question 3: Python Programming [10 marks] "
   ]
  },
  {
   "cell_type": "markdown",
   "id": "0eec4b97",
   "metadata": {},
   "source": [
    "Study “Open Data on COVID-19 in Malaysia” by the Ministry of Health (MOH), Malaysia via https://github.com/MoH-Malaysia/covid19-public. Use only datasets from the categories “Cases and Testing”, “Healthcare”, “Deaths”, and “Static\n",
    "data” for this assignment.\n",
    "\n",
    "Answer the following questions and prepare your findings using the “Streamlit” package. Upload it Heroku.com. Each analysis must have at least one chart and a short paragraph explaining your findings."
   ]
  },
  {
   "cell_type": "markdown",
   "id": "1750fb9f",
   "metadata": {},
   "source": [
    "<span style='color:green'>Data taken from MoH Malaysia as of [`11-09-2021`](https://github.com/MoH-Malaysia/covid19-public/commit/a9d2a11512d0943db02140a03486f6862df87107)</span>"
   ]
  },
  {
   "cell_type": "code",
   "execution_count": null,
   "id": "d7583b19",
   "metadata": {},
   "outputs": [],
   "source": [
    "import pandas as pd\n",
    "import numpy as np\n",
    "import matplotlib.pyplot as plt\n",
    "import seaborn as sns"
   ]
  },
  {
   "cell_type": "markdown",
   "id": "e5590787",
   "metadata": {},
   "source": [
    "## 1.0 Simple Data Exploratory Analysis"
   ]
  },
  {
   "cell_type": "code",
   "execution_count": null,
   "id": "c75d41e6",
   "metadata": {},
   "outputs": [],
   "source": [
    "# Loading the datasets\n",
    "\n",
    "# cases and testing\n",
    "cases_malaysia = pd.read_csv('dataset/cases_and_testing/cases_malaysia.csv')\n",
    "cases_state = pd.read_csv('dataset/cases_and_testing/cases_state.csv')\n",
    "clusters = pd.read_csv('dataset/cases_and_testing/clusters.csv')\n",
    "tests_malaysia = pd.read_csv('dataset/cases_and_testing/tests_malaysia.csv')\n",
    "tests_state = pd.read_csv('dataset/cases_and_testing/tests_state.csv')\n",
    "\n",
    "# deaths\n",
    "deaths_malaysia = pd.read_csv('dataset/deaths/deaths_malaysia.csv')\n",
    "deaths_state = pd.read_csv('dataset/deaths/deaths_state.csv')\n",
    "\n",
    "# healthcare\n",
    "hospital = pd.read_csv('dataset/healthcare/hospital.csv')\n",
    "icu = pd.read_csv('dataset/healthcare/icu.csv')\n",
    "pkrc = pd.read_csv('dataset/healthcare/pkrc.csv')\n",
    "\n",
    "# static data\n",
    "population = pd.read_csv('dataset/static_data/population.csv')"
   ]
  },
  {
   "cell_type": "markdown",
   "id": "549107f6",
   "metadata": {},
   "source": [
    "It is found that multiple datasets have different start date (date of first record) and end date (date of last record).\n",
    "\n",
    "| Dataset         | Start date | End date   | Number of rows |\n",
    "| --------------- | ---------- | ---------- | -------------- |\n",
    "| cases_malaysia  | 2020-01-25 | 2021-09-11 | 596            |\n",
    "| cases_state     | 2020-01-25 | 2021-09-11 | 9536           |\n",
    "| clusters        | 2020-03-01 | 2021-09-09 | 5022           |\n",
    "| tests_malaysia  | 2020-01-24 | 2021-09-08 | 594            |\n",
    "| tests_state     | 2021-07-01 | 2021-09-08 | 1120           |\n",
    "| deaths_malaysia | 2020-03-17 | 2021-09-11 | 544            |\n",
    "| deaths_state    | 2020-03-17 | 2021-09-11 | 8704           |\n",
    "| hospital        | 2020-03-24 | 2021-09-11 | 8179           |\n",
    "| icu             | 2020-03-24 | 2021-09-11 | 8179           |\n",
    "| pkrc            | 2020-03-28 | 2021-09-11 | 6185           |\n",
    "| population      | -          | -          | 17             |"
   ]
  },
  {
   "cell_type": "markdown",
   "id": "cec12e48",
   "metadata": {},
   "source": [
    "Some useful functions for data exploratory."
   ]
  },
  {
   "cell_type": "code",
   "execution_count": null,
   "id": "e4b3d165",
   "metadata": {},
   "outputs": [],
   "source": [
    "# add a 'month' column by using 'date'\n",
    "def add_month(df):\n",
    "    df['month'] = df['date'].str[:-3]\n",
    "    return df\n",
    "\n",
    "# group data by months and count\n",
    "def count_by_months(df):\n",
    "    count_df = df.groupby(['month']).count()\n",
    "    count_df.reset_index(inplace = True)\n",
    "    return count_df\n",
    "\n",
    "# group data by months and get mean\n",
    "def avg_by_months(df):\n",
    "    avg_df = df.groupby(['month']).mean()\n",
    "    avg_df.reset_index(inplace = True)\n",
    "    return avg_df"
   ]
  },
  {
   "cell_type": "markdown",
   "id": "f4b733d8",
   "metadata": {},
   "source": [
    "### 1.1 Cases and Testing\n",
    "\n",
    "1. `date`: yyyy-mm-dd format; data correct as of 1200hrs on that date\n",
    "2. `state`: name of state (present in state file, but not country file)\n",
    "3. `cases_new`: cases reported in the 24h since the last report (except for 16th March 2020, for which the data is cumulative)\n",
    "4. `cluster_x`: cases attributable to clusters under category `x`; possible values for `x` are import, religious, community, highRisk, education, detentionCentre, and workplace; the difference between `cases_new` and the sum of cases attributable to clusters is the number of sporadic cases.\n",
    "5. `rtk-ag`: number of tests done using Antigen Rapid Test Kits (RTK-Ag)\n",
    "6. `pcr`: number of tests done using Real-time Reverse Transcription Polymerase Chain Reaction (RT-PCR) technology"
   ]
  },
  {
   "cell_type": "markdown",
   "id": "391aaa38",
   "metadata": {},
   "source": [
    "#### 1.1.1 cases_malaysia.csv\n",
    "\n",
    "Daily recorded COVID-19 cases at country level."
   ]
  },
  {
   "cell_type": "code",
   "execution_count": null,
   "id": "52131512",
   "metadata": {
    "scrolled": true
   },
   "outputs": [],
   "source": [
    "cases_malaysia"
   ]
  },
  {
   "cell_type": "code",
   "execution_count": null,
   "id": "ea282bbe",
   "metadata": {
    "scrolled": true
   },
   "outputs": [],
   "source": [
    "cases_malaysia.info()"
   ]
  },
  {
   "cell_type": "code",
   "execution_count": null,
   "id": "830bfb49",
   "metadata": {},
   "outputs": [],
   "source": [
    "cases_malaysia.describe()"
   ]
  },
  {
   "cell_type": "code",
   "execution_count": null,
   "id": "d18bebd2",
   "metadata": {},
   "outputs": [],
   "source": [
    "plt.figure(figsize=(40,40))\n",
    "\n",
    "cols = [\"cases_new\", \"cases_import\", \"cases_recovered\", \"cluster_import\", \"cluster_religious\", \"cluster_community\", \"cluster_highRisk\", \"cluster_education\", \"cluster_detentionCentre\", \"cluster_workplace\"]\n",
    "\n",
    "for i in range(len(cols)):\n",
    "    plt.subplot(len(cols),1,1+i)\n",
    "    sns.lineplot(x='date', y=cols[i], data=cases_malaysia)"
   ]
  },
  {
   "cell_type": "code",
   "execution_count": null,
   "id": "d64104f8",
   "metadata": {},
   "outputs": [],
   "source": [
    "cases_malaysia_months = add_month(cases_malaysia)\n",
    "cases_malaysia_months_count = count_by_months(cases_malaysia_months)\n",
    "#cases_malaysia_months_count"
   ]
  },
  {
   "cell_type": "code",
   "execution_count": null,
   "id": "df8bafff",
   "metadata": {},
   "outputs": [],
   "source": [
    "plt.figure(figsize=(40,40))\n",
    "\n",
    "for i in range(len(cols)):\n",
    "    plt.subplot(len(cols),1,1+i)\n",
    "    sns.barplot(x='month', y=cols[i], data=cases_malaysia_months_count, palette='rocket')"
   ]
  },
  {
   "cell_type": "markdown",
   "id": "471c7f5b",
   "metadata": {},
   "source": [
    "#### 1.1.2 cases_state.csv\n",
    "\n",
    "Daily recorded COVID-19 cases at state level."
   ]
  },
  {
   "cell_type": "code",
   "execution_count": null,
   "id": "35745e15",
   "metadata": {
    "scrolled": true
   },
   "outputs": [],
   "source": [
    "cases_state.info()"
   ]
  },
  {
   "cell_type": "code",
   "execution_count": null,
   "id": "5d9dba30",
   "metadata": {
    "scrolled": true
   },
   "outputs": [],
   "source": [
    "cases_state"
   ]
  },
  {
   "cell_type": "markdown",
   "id": "72ef8cda",
   "metadata": {},
   "source": [
    "#### 1.1.3 clusters.csv\n",
    "\n",
    "Exhaustive list of announced clusters with relevant epidemiological datapoints."
   ]
  },
  {
   "cell_type": "code",
   "execution_count": null,
   "id": "4e551ed5",
   "metadata": {
    "scrolled": true
   },
   "outputs": [],
   "source": [
    "clusters.info()"
   ]
  },
  {
   "cell_type": "code",
   "execution_count": null,
   "id": "9d80fdeb",
   "metadata": {
    "scrolled": true
   },
   "outputs": [],
   "source": [
    "clusters"
   ]
  },
  {
   "cell_type": "code",
   "execution_count": null,
   "id": "b6b84d58",
   "metadata": {},
   "outputs": [],
   "source": [
    "clusters_unique_state = clusters['state'].unique()\n",
    "print(clusters_unique_state)\n",
    "print(len(clusters_unique_state))\n",
    "\n",
    "clusters_unique_district = clusters['district'].unique()\n",
    "print(clusters_unique_district)\n",
    "print(len(clusters_unique_district))"
   ]
  },
  {
   "cell_type": "code",
   "execution_count": null,
   "id": "86d5478b",
   "metadata": {},
   "outputs": [],
   "source": [
    "clusters_unique_category = clusters['category'].unique()\n",
    "print(clusters_unique_category)\n",
    "print(len(clusters_unique_category))\n",
    "\n",
    "clusters_unique_status = clusters['status'].unique()\n",
    "print(clusters_unique_status)\n",
    "print(len(clusters_unique_status))"
   ]
  },
  {
   "cell_type": "markdown",
   "id": "46afe733",
   "metadata": {},
   "source": [
    "#### 1.1.4 tests_malaysia.csv\n",
    "\n",
    "Daily tests (note: not necessarily unique individuals) by type at country level.\n",
    "\n",
    "1. `date`: yyyy-mm-dd format; data correct as of 1200hrs on that date\n",
    "2. `rtk-ag`: number of tests done using Antigen Rapid Test Kits (RTK-Ag)\n",
    "3. `pcr`: number of tests done using Real-time Reverse Transcription Polymerase Chain Reaction (RT-PCR) technology"
   ]
  },
  {
   "cell_type": "code",
   "execution_count": null,
   "id": "1c662619",
   "metadata": {
    "scrolled": true
   },
   "outputs": [],
   "source": [
    "tests_malaysia.info()"
   ]
  },
  {
   "cell_type": "code",
   "execution_count": null,
   "id": "77b8672a",
   "metadata": {
    "scrolled": true
   },
   "outputs": [],
   "source": [
    "tests_malaysia"
   ]
  },
  {
   "cell_type": "code",
   "execution_count": null,
   "id": "b4243f37",
   "metadata": {},
   "outputs": [],
   "source": [
    "tests_malaysia_months = add_month(tests_malaysia)\n",
    "tests_malaysia_months_count = count_by_months(tests_malaysia_months)\n",
    "#tests_malaysia_months_count"
   ]
  },
  {
   "cell_type": "code",
   "execution_count": null,
   "id": "3aa5c62f",
   "metadata": {},
   "outputs": [],
   "source": [
    "plt.figure(figsize=(40,10))\n",
    "\n",
    "cols = [\"rtk-ag\", \"pcr\"]\n",
    "\n",
    "for i in range(len(cols)):\n",
    "    plt.subplot(len(cols),1,1+i)\n",
    "    sns.barplot(x='month', y=cols[i], data=tests_malaysia_months_count, palette='rocket')"
   ]
  },
  {
   "cell_type": "markdown",
   "id": "cb429edc",
   "metadata": {},
   "source": [
    "#### 1.1.5 tests_state.csv\n",
    "\n",
    "Daily tests (note: not necessarily unique individuals) by type at state level.\n",
    "\n",
    "1. `date`: yyyy-mm-dd format; data correct as of 1200hrs on that date\n",
    "2. `state`: name of state (present in state file, but not country file)\n",
    "3. `rtk-ag`: number of tests done using Antigen Rapid Test Kits (RTK-Ag)\n",
    "4. `pcr`: number of tests done using Real-time Reverse Transcription Polymerase Chain Reaction (RT-PCR) technology"
   ]
  },
  {
   "cell_type": "code",
   "execution_count": null,
   "id": "0048e4c8",
   "metadata": {
    "scrolled": true
   },
   "outputs": [],
   "source": [
    "tests_state.info()"
   ]
  },
  {
   "cell_type": "code",
   "execution_count": null,
   "id": "35b6ac63",
   "metadata": {
    "scrolled": true
   },
   "outputs": [],
   "source": [
    "tests_state"
   ]
  },
  {
   "cell_type": "markdown",
   "id": "02de3bcb",
   "metadata": {},
   "source": [
    "### 1.2 Deaths\n",
    "\n",
    "1. `date`: yyyy-mm-dd format; data correct as of 1200hrs on that date\n",
    "2. `state`: name of state (present in state file, but not country file)\n",
    "3. `deaths_new`: deaths due to COVID-19 reported in the 24h since the last report"
   ]
  },
  {
   "cell_type": "markdown",
   "id": "0062c805",
   "metadata": {},
   "source": [
    "#### 1.2.1 deaths_malaysia.csv\n",
    "\n",
    "Daily deaths due to COVID-19 at country level."
   ]
  },
  {
   "cell_type": "code",
   "execution_count": null,
   "id": "8b01ab80",
   "metadata": {},
   "outputs": [],
   "source": [
    "deaths_malaysia.info()"
   ]
  },
  {
   "cell_type": "code",
   "execution_count": null,
   "id": "bb24c9e1",
   "metadata": {},
   "outputs": [],
   "source": [
    "deaths_malaysia"
   ]
  },
  {
   "cell_type": "markdown",
   "id": "b47fd601",
   "metadata": {},
   "source": [
    "#### 1.2.2 deaths_state.csv\n",
    "\n",
    "Daily deaths due to COVID-19 at state level."
   ]
  },
  {
   "cell_type": "code",
   "execution_count": null,
   "id": "bb9e1025",
   "metadata": {},
   "outputs": [],
   "source": [
    "deaths_state.info()"
   ]
  },
  {
   "cell_type": "code",
   "execution_count": null,
   "id": "2ee24d0a",
   "metadata": {
    "scrolled": true
   },
   "outputs": [],
   "source": [
    "deaths_state"
   ]
  },
  {
   "cell_type": "markdown",
   "id": "0f4e2d95",
   "metadata": {},
   "source": [
    "### 1.3 Healthcare"
   ]
  },
  {
   "cell_type": "markdown",
   "id": "51868508",
   "metadata": {},
   "source": [
    "#### 1.3.1 hospital.csv\n",
    "\n",
    "Flow of patients to/out of hospitals, with capacity and utilisation.\n",
    "\n",
    "1. `date`: yyyy-mm-dd format; data correct as of 2359hrs on that date\n",
    "2. `state`: name of state, with similar qualification on exhaustiveness of date-state combos as PKRC data\n",
    "3. `beds`: total hospital beds (with related medical infrastructure)\n",
    "3. `beds_covid`: total beds dedicated for COVID-19\n",
    "4. `beds_noncrit`: total hospital beds for non-critical care\n",
    "5. `admitted_x`: number of individuals in category `x` admitted to hospitals, where `x` can be suspected/probable, COVID-19 positive, or non-COVID\n",
    "6. `discharged_x`: number of individuals in category `x` discharged from hospitals\n",
    "7. `hosp_x`: total number of individuals in category `x` in hospitals; this is a stock variable altered by flows from admissions and discharges\n"
   ]
  },
  {
   "cell_type": "code",
   "execution_count": null,
   "id": "1b59c10b",
   "metadata": {},
   "outputs": [],
   "source": [
    "hospital.info()"
   ]
  },
  {
   "cell_type": "code",
   "execution_count": null,
   "id": "ff0ff835",
   "metadata": {
    "scrolled": true
   },
   "outputs": [],
   "source": [
    "hospital"
   ]
  },
  {
   "cell_type": "markdown",
   "id": "2aed47f3",
   "metadata": {},
   "source": [
    "#### 1.3.2 icu.csv\n",
    "\n",
    "Capacity and utilisation of intensive care unit (ICU) beds.\n",
    "\n",
    "1. `date`: yyyy-mm-dd format; data correct as of 2359hrs on that date\n",
    "2. `state`: name of state, with similar qualification on exhaustiveness of date-state combos as PKRC data\n",
    "3. `beds_icu`: total gazetted ICU beds\n",
    "4. `beds_icu_rep`: total beds aside from (3) which are temporarily or permanently designated to be under the care of Anaesthesiology & Critical Care departments\n",
    "5. `beds_icu_total`: total critical care beds available (with related medical infrastructure)\n",
    "6. `beds_icu_covid`: total critical care beds dedicated for COVID-19\n",
    "7. `vent`: total available ventilators\n",
    "8. `vent_port`: total available portable ventilators\n",
    "9. `icu_x`: total number of individuals in category `x` under intensive care, where `x` can be  suspected/probable, COVID-19 positive, or non-COVID; this is a stock variable\n",
    "10. `vent_x`: total number of individuals in category `x` on mechanical ventilation, where `x` can be suspected/probable, COVID-19 positive, or non-COVID; this is a stock variable"
   ]
  },
  {
   "cell_type": "code",
   "execution_count": null,
   "id": "236d4629",
   "metadata": {},
   "outputs": [],
   "source": [
    "icu.info()"
   ]
  },
  {
   "cell_type": "code",
   "execution_count": null,
   "id": "132b235d",
   "metadata": {
    "scrolled": true
   },
   "outputs": [],
   "source": [
    "icu"
   ]
  },
  {
   "cell_type": "markdown",
   "id": "2ce1dda5",
   "metadata": {},
   "source": [
    "#### 1.3.3 pkrc.csv\n",
    "\n",
    "Flow of patients to/out of Covid-19 Quarantine and Treatment Centres (PKRC), with capacity and utilisation.\n",
    "\n",
    "1. `date`: yyyy-mm-dd format; data correct as of 2359hrs on that date\n",
    "2. `state`: name of state; note that (unlike with other datasets), it is not necessary that there be an observation for every state on every date. for instance, there are no PKRCs in W.P. Kuala Lumpur and W.P Putrajaya.\n",
    "3. `beds`: total PKRC beds (with related medical infrastructure)\n",
    "4. `admitted_x`: number of individuals in category `x` admitted to PKRCs, where `x` can be suspected/probable, COVID-19 positive, or non-COVID\n",
    "5. `discharged_x`: number of individuals in category `x` discharged from PKRCs\n",
    "6. `pkrc_x`: total number of individuals in category `x` in PKRCs; this is a stock variable altered by flows from admissions and discharges\n"
   ]
  },
  {
   "cell_type": "code",
   "execution_count": null,
   "id": "3b9be25a",
   "metadata": {},
   "outputs": [],
   "source": [
    "pkrc.info()"
   ]
  },
  {
   "cell_type": "code",
   "execution_count": null,
   "id": "616e922d",
   "metadata": {
    "scrolled": true
   },
   "outputs": [],
   "source": [
    "pkrc"
   ]
  },
  {
   "cell_type": "markdown",
   "id": "f8e7c747",
   "metadata": {},
   "source": [
    "### 1.4 Static Data"
   ]
  },
  {
   "cell_type": "markdown",
   "id": "11fff73b",
   "metadata": {},
   "source": [
    "#### 1.4.1 population.csv\n",
    "\n",
    "Total, adult (≥18), and elderly (≥60) population at state level."
   ]
  },
  {
   "cell_type": "code",
   "execution_count": null,
   "id": "6a961e68",
   "metadata": {},
   "outputs": [],
   "source": [
    "population.info()"
   ]
  },
  {
   "cell_type": "code",
   "execution_count": null,
   "id": "cdf9b1ae",
   "metadata": {
    "scrolled": true
   },
   "outputs": [],
   "source": [
    "population"
   ]
  },
  {
   "cell_type": "code",
   "execution_count": null,
   "id": "a46629e5",
   "metadata": {},
   "outputs": [],
   "source": [
    "state_population = population.drop(0) # drop Malaysia population\n",
    "state_population.reset_index(inplace=True, drop=True)\n",
    "\n",
    "plt.figure(figsize=(30,30))\n",
    "plt.subplot(311)\n",
    "sns.barplot(x='state', y='pop', data=state_population, palette='mako')\n",
    "plt.subplot(312)\n",
    "sns.barplot(x='state', y='pop_18', data=state_population, palette='mako')\n",
    "plt.subplot(313)\n",
    "sns.barplot(x='state', y='pop_60', data=state_population, palette='mako')"
   ]
  },
  {
   "cell_type": "markdown",
   "id": "e00c72e4",
   "metadata": {},
   "source": [
    "### 1.5 Outliers Detection"
   ]
  },
  {
   "cell_type": "code",
   "execution_count": null,
   "id": "841d7fc7",
   "metadata": {
    "scrolled": true
   },
   "outputs": [],
   "source": [
    "def check_outlier(df):\n",
    "    numeric_columns = df.describe().copy()\n",
    "    num_of_columns = len(numeric_columns.columns)\n",
    "    \n",
    "    for count, column in enumerate(numeric_columns):\n",
    "        plt.figure(figsize=(20,5))\n",
    "        plt.subplot(num_of_columns, 1, count+1)\n",
    "        plot_boxplot(df[column], xlabel=column)\n",
    "    plt.show()\n",
    "    \n",
    "def plot_boxplot(series, title='', xlabel=''):\n",
    "    bp = sns.boxplot(x=series)\n",
    "    bp.set(title=title,\n",
    "           xlabel=xlabel)\n",
    "    #plt.show()"
   ]
  },
  {
   "cell_type": "code",
   "execution_count": null,
   "id": "9d667ac8",
   "metadata": {},
   "outputs": [],
   "source": [
    "check_outlier(cases_malaysia)"
   ]
  },
  {
   "cell_type": "code",
   "execution_count": null,
   "id": "ff8e46cf",
   "metadata": {},
   "outputs": [],
   "source": [
    "check_outlier(cases_state)"
   ]
  },
  {
   "cell_type": "code",
   "execution_count": null,
   "id": "c80cf03a",
   "metadata": {},
   "outputs": [],
   "source": [
    "check_outlier(clusters)"
   ]
  },
  {
   "cell_type": "code",
   "execution_count": null,
   "id": "a09d4978",
   "metadata": {},
   "outputs": [],
   "source": [
    "check_outlier(tests_malaysia)"
   ]
  },
  {
   "cell_type": "code",
   "execution_count": null,
   "id": "392be592",
   "metadata": {},
   "outputs": [],
   "source": [
    "check_outlier(tests_state)"
   ]
  },
  {
   "cell_type": "markdown",
   "id": "06ad3e21",
   "metadata": {},
   "source": [
    "### 1.6 Identifying Missing Values"
   ]
  },
  {
   "cell_type": "code",
   "execution_count": null,
   "id": "c6a7cbb8",
   "metadata": {},
   "outputs": [],
   "source": [
    "def get_nan(df):\n",
    "    missing_value = df[df.isna().values.any(axis=1)]\n",
    "    rows = missing_value.shape[0]\n",
    "    print(rows, \"rows with missing values\")\n",
    "    \n",
    "    if rows > 0:\n",
    "        print(df.isna().sum(), \"\\n\")"
   ]
  },
  {
   "cell_type": "code",
   "execution_count": null,
   "id": "faabfc45",
   "metadata": {
    "scrolled": true
   },
   "outputs": [],
   "source": [
    "get_nan(cases_malaysia)\n",
    "get_nan(cases_state)\n",
    "get_nan(clusters)\n",
    "get_nan(tests_malaysia)\n",
    "get_nan(tests_state)"
   ]
  },
  {
   "cell_type": "code",
   "execution_count": null,
   "id": "72538715",
   "metadata": {},
   "outputs": [],
   "source": [
    "get_nan(deaths_malaysia)\n",
    "get_nan(deaths_state)"
   ]
  },
  {
   "cell_type": "code",
   "execution_count": null,
   "id": "723544e6",
   "metadata": {},
   "outputs": [],
   "source": [
    "get_nan(hospital)\n",
    "get_nan(icu)\n",
    "get_nan(pkrc)"
   ]
  },
  {
   "cell_type": "code",
   "execution_count": null,
   "id": "e79eb9e9",
   "metadata": {},
   "outputs": [],
   "source": [
    "get_nan(population)"
   ]
  },
  {
   "cell_type": "markdown",
   "id": "2b76cf12",
   "metadata": {},
   "source": [
    "**CSV files with missing values:**\n",
    "\n",
    "1. `cases_malaysia` - 342 out of 596 rows\n",
    "2. `cases_state` - 176 out of 9536 rows "
   ]
  },
  {
   "cell_type": "markdown",
   "id": "ecc8fba5",
   "metadata": {},
   "source": [
    "## 2.0 Correlation Check"
   ]
  },
  {
   "cell_type": "code",
   "execution_count": null,
   "id": "3e48f46b",
   "metadata": {
    "scrolled": true
   },
   "outputs": [],
   "source": [
    "states = tests_state['state'].unique()\n",
    "\n",
    "print(len(states))\n",
    "for s in states:\n",
    "    print(s)"
   ]
  },
  {
   "cell_type": "code",
   "execution_count": null,
   "id": "6ef9f499",
   "metadata": {
    "scrolled": true
   },
   "outputs": [],
   "source": [
    "def plot_scatterplot(df, column, state_list):\n",
    "    for state in state_list:\n",
    "        temp_df = df[df['state'] == state].copy()\n",
    "        temp_df.reset_index(inplace=True, drop=True)\n",
    "\n",
    "        ax = sns.scatterplot(x='date', y=column, data=temp_df)\n",
    "        plt.title(state)\n",
    "        plt.show()"
   ]
  },
  {
   "cell_type": "code",
   "execution_count": null,
   "id": "7afe1b05",
   "metadata": {},
   "outputs": [],
   "source": [
    "cases_state"
   ]
  },
  {
   "cell_type": "code",
   "execution_count": null,
   "id": "42e002a0",
   "metadata": {},
   "outputs": [],
   "source": [
    "plot_scatterplot(cases_state, 'cases_new', states)"
   ]
  },
  {
   "cell_type": "markdown",
   "id": "3ffc06ef",
   "metadata": {},
   "source": [
    "Merging `cases_state`, `tests_state`, and `deaths_state`.\n",
    "\n",
    "However, these 3 datasets have different starting date and ending date.\n",
    "\n",
    "| Dataset         | Start date | End date   | Number of rows |\n",
    "| --------------- | ---------- | ---------- | -------------- |\n",
    "| cases_state     | 2020-01-25 | 2021-09-11 | 9536           |\n",
    "| tests_state     | 2021-07-01 | 2021-09-08 | 1120           |\n",
    "| deaths_state    | 2020-03-17 | 2021-09-11 | 8704           |\n",
    "\n",
    "Hence we selected the timeframe: `2021-07-01` to `2021-09-08` (70 days) which is covered in all 3 datasets. First we performed an inner merge between cases_state with tests_state. Then we merged the resulting dataframe with deaths_state."
   ]
  },
  {
   "cell_type": "code",
   "execution_count": null,
   "id": "ddf26578",
   "metadata": {
    "scrolled": true
   },
   "outputs": [],
   "source": [
    "# merge tests_state and cases_state together\n",
    "df_inner_join = (pd.merge(tests_state, cases_state, on='date', how='inner', indicator=True)).set_index('date')\n",
    "\n",
    "df_cases_state = df_inner_join[df_inner_join['state_x'] == df_inner_join['state_y']].copy()\n",
    "df_cases_state.drop(['state_y', '_merge'], axis=1, inplace=True)\n",
    "\n",
    "\n",
    "# merge deaths_state\n",
    "df_inner_join_2 = (pd.merge(df_cases_state, deaths_state, on='date', how='inner', indicator=True)).set_index('date')\n",
    "\n",
    "df_cases_tests_deaths = df_inner_join_2[df_inner_join_2['state_x'] == df_inner_join_2['state']].copy()\n",
    "df_cases_tests_deaths.drop(['state', '_merge'], axis=1, inplace=True)\n",
    "df_cases_tests_deaths.rename(columns={'state_x': 'state'}, inplace=True)\n",
    "\n",
    "df_cases_tests_deaths"
   ]
  },
  {
   "cell_type": "code",
   "execution_count": null,
   "id": "6b9b5caf",
   "metadata": {},
   "outputs": [],
   "source": []
  },
  {
   "cell_type": "markdown",
   "id": "62a4fd89",
   "metadata": {},
   "source": [
    "Checking if there is any missing value."
   ]
  },
  {
   "cell_type": "code",
   "execution_count": null,
   "id": "e8e8b5b7",
   "metadata": {},
   "outputs": [],
   "source": [
    "get_nan(df_cases_tests_deaths)"
   ]
  },
  {
   "cell_type": "code",
   "execution_count": null,
   "id": "a4780477",
   "metadata": {},
   "outputs": [],
   "source": [
    "corr_msia = df_cases_tests_deaths.corr()\n",
    "plt.figure(figsize=(8, 8))\n",
    "sns.heatmap(corr_msia,square=True,annot=True)\n",
    "plt.title('Malaysia')"
   ]
  },
  {
   "cell_type": "code",
   "execution_count": null,
   "id": "27f12c89",
   "metadata": {},
   "outputs": [],
   "source": [
    "for state in states:\n",
    "    df_state = df_cases_tests_deaths[df_cases_tests_deaths['state'] == state].copy()\n",
    "    corr_state = df_state.corr()\n",
    "    \n",
    "    plt.figure(figsize=(8, 8))\n",
    "    sns.heatmap(corr_state,square=True,annot=True)\n",
    "    plt.title(state)\n",
    "    plt.show()"
   ]
  },
  {
   "cell_type": "markdown",
   "id": "3bc35eb5",
   "metadata": {},
   "source": [
    "Upon checking the heatmap of each states, we noticed that **Perlis** and **W.P.Putrajaya** have interesting patterns"
   ]
  },
  {
   "cell_type": "code",
   "execution_count": null,
   "id": "7e3afb83",
   "metadata": {},
   "outputs": [],
   "source": [
    "df_perlis = df_cases_tests_deaths[df_cases_tests_deaths['state'] == 'Perlis'].copy()\n",
    "df_perlis.describe()"
   ]
  },
  {
   "cell_type": "code",
   "execution_count": null,
   "id": "40c9a4ed",
   "metadata": {},
   "outputs": [],
   "source": [
    "df_putrajaya = df_cases_tests_deaths[df_cases_tests_deaths['state'] == 'W.P. Putrajaya'].copy()\n",
    "df_putrajaya.describe()"
   ]
  },
  {
   "cell_type": "code",
   "execution_count": null,
   "id": "d697824f",
   "metadata": {},
   "outputs": [],
   "source": [
    "# separates the date column into year, month, day and drops the column\n",
    "\n",
    "def separate_df_date(df):\n",
    "    df_temp = df.copy()\n",
    "    \n",
    "    df_temp['date'].replace('-', ' ', regex=True, inplace=True)\n",
    "    date = df_temp['date'].str.split(' ', n=2, expand=True)\n",
    "    date.columns = ['year','month','day']\n",
    "\n",
    "    df_temp.drop(['date'], axis=1, inplace=True)\n",
    "\n",
    "    df_temp = pd.concat([date, cases_state_ymd], axis=1)\n",
    "\n",
    "    return df_temp"
   ]
  },
  {
   "cell_type": "code",
   "execution_count": null,
   "id": "23fd8598",
   "metadata": {
    "scrolled": true
   },
   "outputs": [],
   "source": [
    "# selects a target state and compare with other states\n",
    "\n",
    "def check_correlation(df, column, target_state, plot=False):\n",
    "    \n",
    "    target_df = df[df['state'] == target_state].copy()\n",
    "    target_df.reset_index(inplace=True, drop=True)\n",
    "    \n",
    "    state_list = df['state'].unique()\n",
    "    for state in state_list:\n",
    "        if state == target_state:\n",
    "            continue\n",
    "        \n",
    "        temp_df = df[df['state'] == state].copy()\n",
    "        temp_df.reset_index(inplace=True, drop=True)\n",
    "        \n",
    "        print(target_state, '&', state, target_df[column].corr(temp_df[column]))\n",
    "        \n",
    "        if plot: # plots scatterplot\n",
    "            plt.scatter(target_df[column], temp_df[column])\n",
    "            plt.xlabel(target_state)\n",
    "            plt.ylabel(state)\n",
    "            plt.show()"
   ]
  },
  {
   "cell_type": "code",
   "execution_count": null,
   "id": "ecf92e81",
   "metadata": {},
   "outputs": [],
   "source": [
    "check_correlation(df_cases_tests_deaths, 'rtk-ag', 'Pahang')"
   ]
  },
  {
   "cell_type": "markdown",
   "id": "e0d95853",
   "metadata": {},
   "source": [
    "`tests_state`: 'rtk-ag'\n",
    "\n",
    "```\n",
    "Pahang & Johor 0.38256435461029875\n",
    "Pahang & Kedah 0.44849504643592547\n",
    "Pahang & Kelantan 0.1674569449655961\n",
    "Pahang & Melaka 0.4776594029215222\n",
    "Pahang & Negeri Sembilan 0.5415822434569072\n",
    "Pahang & Perak 0.5049629383820239\n",
    "Pahang & Perlis 0.3770238546050841\n",
    "Pahang & Pulau Pinang 0.4293662154983612\n",
    "Pahang & Sabah 0.4949434342471725\n",
    "Pahang & Sarawak 0.274769302858043\n",
    "Pahang & Selangor 0.6092047055703699\n",
    "Pahang & Terengganu 0.19716813868146266\n",
    "Pahang & W.P. Kuala Lumpur 0.49331196184904047\n",
    "Pahang & W.P. Labuan -0.17064493470111997\n",
    "Pahang & W.P. Putrajaya 0.26473663811493336\n",
    "```\n",
    "\n",
    "```\n",
    "Johor & Kedah 0.8043447577642575\n",
    "Johor & Kelantan 0.6923132556042892\n",
    "Johor & Melaka 0.5058652454498117\n",
    "Johor & Negeri Sembilan 0.23594070045173157\n",
    "Johor & Pahang 0.38256435461029875\n",
    "Johor & Perak 0.811347867755178\n",
    "Johor & Perlis 0.693184610565395\n",
    "Johor & Pulau Pinang 0.7583429549179802\n",
    "Johor & Sabah 0.8266845774579967\n",
    "Johor & Sarawak 0.6841980524572683\n",
    "Johor & Selangor 0.08781097546697252\n",
    "Johor & Terengganu 0.7197377576274986\n",
    "Johor & W.P. Kuala Lumpur 0.0500907228214998\n",
    "Johor & W.P. Labuan -0.6045856647190402\n",
    "Johor & W.P. Putrajaya -0.10142664246639344\n",
    "```\n",
    "\n",
    "\n",
    "\n",
    "`tests_state`: 'pcr'\n",
    "\n",
    "```\n",
    "Pahang & Johor 0.6728674448910477\n",
    "Pahang & Kedah 0.666712329550046\n",
    "Pahang & Kelantan 0.30475168833688\n",
    "Pahang & Melaka -0.06156019696326691\n",
    "Pahang & Negeri Sembilan -0.5135586032926034\n",
    "Pahang & Perak 0.43097848973259256\n",
    "Pahang & Perlis 0.4493661014227462\n",
    "Pahang & Pulau Pinang 0.5416165084104542\n",
    "Pahang & Sabah 0.45138261046204514\n",
    "Pahang & Sarawak 0.48024975063288877\n",
    "Pahang & Selangor -0.19530371284734066\n",
    "Pahang & Terengganu 0.5920855018984269\n",
    "Pahang & W.P. Kuala Lumpur -0.21418747501122362\n",
    "Pahang & W.P. Labuan -0.12527010471432104\n",
    "Pahang & W.P. Putrajaya -0.1577567008537213\n",
    "```\n",
    "\n",
    "```\n",
    "Johor & Kedah 0.8263979781513343\n",
    "Johor & Kelantan 0.23987548229200056\n",
    "Johor & Melaka -0.1449991440355817\n",
    "Johor & Negeri Sembilan -0.5982911967660592\n",
    "Johor & Pahang 0.6728674448910477\n",
    "Johor & Perak 0.5840681283144368\n",
    "Johor & Perlis 0.7969569682135377\n",
    "Johor & Pulau Pinang 0.8409926394226808\n",
    "Johor & Sabah 0.5115830298903297\n",
    "Johor & Sarawak 0.6854459374063181\n",
    "Johor & Selangor -0.19890034672404175\n",
    "Johor & Terengganu 0.7105386966983214\n",
    "Johor & W.P. Kuala Lumpur -0.2724980138807845\n",
    "Johor & W.P. Labuan -0.008639989220871181\n",
    "Johor & W.P. Putrajaya -0.33492985945416687\n",
    "```"
   ]
  },
  {
   "cell_type": "markdown",
   "id": "0217f078-17c6-4675-8ddc-8841c23ebfcb",
   "metadata": {},
   "source": [
    "## 3.0 Data Mining"
   ]
  },
  {
   "cell_type": "markdown",
   "id": "c1ad4a3c-7772-4434-998e-4b6ed88b88c6",
   "metadata": {},
   "source": [
    "### 3.1 Regression Models"
   ]
  },
  {
   "cell_type": "code",
   "execution_count": null,
   "id": "ea05abb7-52fa-4c34-a62c-0adc765fc0b4",
   "metadata": {},
   "outputs": [],
   "source": []
  },
  {
   "cell_type": "markdown",
   "id": "83412648-3cd1-4c77-9d6d-e59de48d6948",
   "metadata": {},
   "source": [
    "### 3.2 Classification Models"
   ]
  },
  {
   "cell_type": "code",
   "execution_count": null,
   "id": "b077bfe9-1cd1-4cdd-8cf7-d7eda991f6a9",
   "metadata": {},
   "outputs": [],
   "source": []
  },
  {
   "cell_type": "markdown",
   "id": "cde6b06f",
   "metadata": {},
   "source": [
    "## Questions"
   ]
  },
  {
   "cell_type": "markdown",
   "id": "febadcc1",
   "metadata": {},
   "source": [
    "**(i) Discuss the exploratory data analysis steps you have conducted including detection of outliers and missing values?**"
   ]
  },
  {
   "cell_type": "markdown",
   "id": "29cdfea7",
   "metadata": {},
   "source": [
    "```\n",
    "ok\n",
    "```"
   ]
  },
  {
   "cell_type": "markdown",
   "id": "82fef9cf",
   "metadata": {},
   "source": [
    "**(ii) What are the states that exhibit strong correlation with (i) Pahang, and (ii) Johor?**"
   ]
  },
  {
   "cell_type": "markdown",
   "id": "a7456e83",
   "metadata": {},
   "source": [
    "```\n",
    "multi-dimension data\n",
    "(matplotlib)\n",
    "```"
   ]
  },
  {
   "cell_type": "markdown",
   "id": "64ed16da",
   "metadata": {},
   "source": [
    "**(iii) What are the strong features/indicators to daily cases for (i) Pahang, (ii) Kedah,\n",
    "(iii) Johor, and (iv) Selangor? [Note: you must use at least 2 methods to justify\n",
    "your findings]**\n"
   ]
  },
  {
   "cell_type": "markdown",
   "id": "3689e302",
   "metadata": {},
   "source": [
    "```\n",
    "one more method\n",
    "\n",
    "feature importance\n",
    "```"
   ]
  },
  {
   "cell_type": "markdown",
   "id": "efa7f3e4",
   "metadata": {},
   "source": [
    "**(iv) Comparing regression and classification models, what model performs well in\n",
    "predicting the daily cases for (i) Pahang, (ii) Kedah, (iii) Johor, and (iv) Selangor?\n",
    "Requirements:**\n",
    "1. Use TWO(2) regression models and TWO(2) classification models\n",
    "2. Use appropriate evaluation metrics.\n"
   ]
  }
 ],
 "metadata": {
  "kernelspec": {
   "display_name": "Anaconda (base)",
   "language": "python",
   "name": "anaconda-base"
  },
  "language_info": {
   "codemirror_mode": {
    "name": "ipython",
    "version": 3
   },
   "file_extension": ".py",
   "mimetype": "text/x-python",
   "name": "python",
   "nbconvert_exporter": "python",
   "pygments_lexer": "ipython3",
   "version": "3.8.8"
  }
 },
 "nbformat": 4,
 "nbformat_minor": 5
}
