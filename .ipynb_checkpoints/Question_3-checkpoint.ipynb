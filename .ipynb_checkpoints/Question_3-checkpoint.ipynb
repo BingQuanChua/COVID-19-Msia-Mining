{
 "cells": [
  {
   "cell_type": "markdown",
   "id": "518327ae",
   "metadata": {},
   "source": [
    "# Question 3: Python Programming [10 marks] "
   ]
  },
  {
   "cell_type": "markdown",
   "id": "0eec4b97",
   "metadata": {},
   "source": [
    "Study “Open Data on COVID-19 in Malaysia” by the Ministry of Health (MOH), Malaysia via https://github.com/MoH-Malaysia/covid19-public. Use only datasets from the categories “Cases and Testing”, “Healthcare”, “Deaths”, and “Static\n",
    "data” for this assignment.\n",
    "\n",
    "Answer the following questions and prepare your findings using the “Streamlit” package. Upload it Heroku.com. Each analysis must have at least one chart and a short paragraph explaining your findings."
   ]
  },
  {
   "cell_type": "markdown",
   "id": "1750fb9f",
   "metadata": {},
   "source": [
    "<span style='color:green'>Data taken from MoH Malaysia as of [`11-09-2021`](https://github.com/MoH-Malaysia/covid19-public/commit/a9d2a11512d0943db02140a03486f6862df87107)</span>"
   ]
  },
  {
   "cell_type": "code",
   "execution_count": null,
   "id": "d7583b19",
   "metadata": {},
   "outputs": [],
   "source": [
    "import pandas as pd\n",
    "import numpy as np\n",
    "import matplotlib.pyplot as plt\n",
    "import seaborn as sns\n",
    "\n",
    "from sklearn.model_selection import train_test_split\n",
    "from sklearn.datasets import make_regression\n",
    "from sklearn.metrics import r2_score, mean_absolute_error\n",
    "from sklearn.metrics import confusion_matrix, ConfusionMatrixDisplay\n",
    "from sklearn.metrics import accuracy_score, precision_score, recall_score, f1_score\n",
    "from sklearn.metrics import roc_curve, roc_auc_score\n",
    "\n",
    "from sklearn.linear_model import LinearRegression\n",
    "from sklearn.tree import DecisionTreeRegressor\n",
    "\n",
    "from sklearn.neighbors import KNeighborsClassifier\n",
    "from sklearn.naive_bayes import GaussianNB\n",
    "from sklearn.tree import DecisionTreeClassifier\n",
    "from sklearn.ensemble import RandomForestClassifier\n",
    "from sklearn.svm import SVC\n",
    "\n",
    "from imblearn.over_sampling import SMOTE\n",
    "from collections import Counter"
   ]
  },
  {
   "cell_type": "markdown",
   "id": "e5590787",
   "metadata": {},
   "source": [
    "## 1.0 Simple Data Exploratory Analysis"
   ]
  },
  {
   "cell_type": "code",
   "execution_count": null,
   "id": "c75d41e6",
   "metadata": {},
   "outputs": [],
   "source": [
    "# Loading the datasets\n",
    "\n",
    "# cases and testing\n",
    "cases_malaysia = pd.read_csv('dataset/cases_and_testing/cases_malaysia.csv')\n",
    "cases_state = pd.read_csv('dataset/cases_and_testing/cases_state.csv')\n",
    "clusters = pd.read_csv('dataset/cases_and_testing/clusters.csv')\n",
    "tests_malaysia = pd.read_csv('dataset/cases_and_testing/tests_malaysia.csv')\n",
    "tests_state = pd.read_csv('dataset/cases_and_testing/tests_state.csv')\n",
    "\n",
    "# deaths\n",
    "deaths_malaysia = pd.read_csv('dataset/deaths/deaths_malaysia.csv')\n",
    "deaths_state = pd.read_csv('dataset/deaths/deaths_state.csv')\n",
    "\n",
    "# healthcare\n",
    "hospital = pd.read_csv('dataset/healthcare/hospital.csv')\n",
    "icu = pd.read_csv('dataset/healthcare/icu.csv')\n",
    "pkrc = pd.read_csv('dataset/healthcare/pkrc.csv')\n",
    "\n",
    "# static data\n",
    "population = pd.read_csv('dataset/static_data/population.csv')"
   ]
  },
  {
   "cell_type": "markdown",
   "id": "549107f6",
   "metadata": {},
   "source": [
    "It is found that multiple datasets have different start date (date of first record) and end date (date of last record).\n",
    "\n",
    "| Dataset         | Start date | End date   | Number of rows |\n",
    "| --------------- | ---------- | ---------- | -------------- |\n",
    "| cases_malaysia  | 2020-01-25 | 2021-09-11 | 596            |\n",
    "| cases_state     | 2020-01-25 | 2021-09-11 | 9536           |\n",
    "| clusters        | 2020-03-01 | 2021-09-09 | 5022           |\n",
    "| tests_malaysia  | 2020-01-24 | 2021-09-08 | 594            |\n",
    "| tests_state     | 2021-07-01 | 2021-09-08 | 1120           |\n",
    "| deaths_malaysia | 2020-03-17 | 2021-09-11 | 544            |\n",
    "| deaths_state    | 2020-03-17 | 2021-09-11 | 8704           |\n",
    "| hospital        | 2020-03-24 | 2021-09-11 | 8179           |\n",
    "| icu             | 2020-03-24 | 2021-09-11 | 8179           |\n",
    "| pkrc            | 2020-03-28 | 2021-09-11 | 6185           |\n",
    "| population      | -          | -          | 17             |"
   ]
  },
  {
   "cell_type": "markdown",
   "id": "cec12e48",
   "metadata": {},
   "source": [
    "Some useful functions for data exploratory."
   ]
  },
  {
   "cell_type": "code",
   "execution_count": null,
   "id": "e4b3d165",
   "metadata": {},
   "outputs": [],
   "source": [
    "# add a 'month' column by using 'date'\n",
    "def add_month(df):\n",
    "    df['month'] = df['date'].str[:-3]\n",
    "    return df\n",
    "\n",
    "# group data by months and count\n",
    "def count_by_months(df):\n",
    "    count_df = df.groupby(['month']).count()\n",
    "    count_df.reset_index(inplace = True)\n",
    "    return count_df\n",
    "\n",
    "# group data by months and get mean\n",
    "def avg_by_months(df):\n",
    "    avg_df = df.groupby(['month']).mean()\n",
    "    avg_df.reset_index(inplace = True)\n",
    "    return avg_df"
   ]
  },
  {
   "cell_type": "markdown",
   "id": "f4b733d8",
   "metadata": {},
   "source": [
    "### 1.1 Cases and Testing\n",
    "\n",
    "1. `date`: yyyy-mm-dd format; data correct as of 1200hrs on that date\n",
    "2. `state`: name of state (present in state file, but not country file)\n",
    "3. `cases_new`: cases reported in the 24h since the last report (except for 16th March 2020, for which the data is cumulative)\n",
    "4. `cluster_x`: cases attributable to clusters under category `x`; possible values for `x` are import, religious, community, highRisk, education, detentionCentre, and workplace; the difference between `cases_new` and the sum of cases attributable to clusters is the number of sporadic cases.\n",
    "5. `rtk-ag`: number of tests done using Antigen Rapid Test Kits (RTK-Ag)\n",
    "6. `pcr`: number of tests done using Real-time Reverse Transcription Polymerase Chain Reaction (RT-PCR) technology"
   ]
  },
  {
   "cell_type": "markdown",
   "id": "391aaa38",
   "metadata": {},
   "source": [
    "#### 1.1.1 cases_malaysia.csv\n",
    "\n",
    "Daily recorded COVID-19 cases at country level."
   ]
  },
  {
   "cell_type": "code",
   "execution_count": null,
   "id": "52131512",
   "metadata": {
    "scrolled": true
   },
   "outputs": [],
   "source": [
    "cases_malaysia"
   ]
  },
  {
   "cell_type": "code",
   "execution_count": null,
   "id": "ea282bbe",
   "metadata": {
    "scrolled": true
   },
   "outputs": [],
   "source": [
    "cases_malaysia.info()"
   ]
  },
  {
   "cell_type": "code",
   "execution_count": null,
   "id": "830bfb49",
   "metadata": {},
   "outputs": [],
   "source": [
    "cases_malaysia.describe()"
   ]
  },
  {
   "cell_type": "code",
   "execution_count": null,
   "id": "d18bebd2",
   "metadata": {},
   "outputs": [],
   "source": [
    "plt.figure(figsize=(40,40))\n",
    "\n",
    "cols = [\"cases_new\", \"cases_import\", \"cases_recovered\", \"cluster_import\", \"cluster_religious\", \"cluster_community\", \"cluster_highRisk\", \"cluster_education\", \"cluster_detentionCentre\", \"cluster_workplace\"]\n",
    "\n",
    "for i in range(len(cols)):\n",
    "    plt.subplot(len(cols),1,1+i)\n",
    "    sns.lineplot(x='date', y=cols[i], data=cases_malaysia)"
   ]
  },
  {
   "cell_type": "code",
   "execution_count": null,
   "id": "d64104f8",
   "metadata": {},
   "outputs": [],
   "source": [
    "cases_malaysia_months = add_month(cases_malaysia)\n",
    "cases_malaysia_months_count = count_by_months(cases_malaysia_months)\n",
    "#cases_malaysia_months_count"
   ]
  },
  {
   "cell_type": "code",
   "execution_count": null,
   "id": "df8bafff",
   "metadata": {},
   "outputs": [],
   "source": [
    "plt.figure(figsize=(40,40))\n",
    "\n",
    "for i in range(len(cols)):\n",
    "    plt.subplot(len(cols),1,1+i)\n",
    "    sns.barplot(x='month', y=cols[i], data=cases_malaysia_months_count, palette='rocket')"
   ]
  },
  {
   "cell_type": "markdown",
   "id": "471c7f5b",
   "metadata": {},
   "source": [
    "#### 1.1.2 cases_state.csv\n",
    "\n",
    "Daily recorded COVID-19 cases at state level."
   ]
  },
  {
   "cell_type": "code",
   "execution_count": null,
   "id": "35745e15",
   "metadata": {
    "scrolled": true
   },
   "outputs": [],
   "source": [
    "cases_state.info()"
   ]
  },
  {
   "cell_type": "code",
   "execution_count": null,
   "id": "5d9dba30",
   "metadata": {
    "scrolled": true
   },
   "outputs": [],
   "source": [
    "cases_state"
   ]
  },
  {
   "cell_type": "markdown",
   "id": "72ef8cda",
   "metadata": {},
   "source": [
    "#### 1.1.3 clusters.csv\n",
    "\n",
    "Exhaustive list of announced clusters with relevant epidemiological datapoints."
   ]
  },
  {
   "cell_type": "code",
   "execution_count": null,
   "id": "4e551ed5",
   "metadata": {
    "scrolled": true
   },
   "outputs": [],
   "source": [
    "clusters.info()"
   ]
  },
  {
   "cell_type": "code",
   "execution_count": null,
   "id": "9d80fdeb",
   "metadata": {
    "scrolled": true
   },
   "outputs": [],
   "source": [
    "clusters"
   ]
  },
  {
   "cell_type": "code",
   "execution_count": null,
   "id": "b6b84d58",
   "metadata": {},
   "outputs": [],
   "source": [
    "clusters_unique_state = clusters['state'].unique()\n",
    "print(clusters_unique_state)\n",
    "print(len(clusters_unique_state))\n",
    "\n",
    "clusters_unique_district = clusters['district'].unique()\n",
    "print(clusters_unique_district)\n",
    "print(len(clusters_unique_district))"
   ]
  },
  {
   "cell_type": "code",
   "execution_count": null,
   "id": "86d5478b",
   "metadata": {},
   "outputs": [],
   "source": [
    "clusters_unique_category = clusters['category'].unique()\n",
    "print(clusters_unique_category)\n",
    "print(len(clusters_unique_category))\n",
    "\n",
    "clusters_unique_status = clusters['status'].unique()\n",
    "print(clusters_unique_status)\n",
    "print(len(clusters_unique_status))"
   ]
  },
  {
   "cell_type": "markdown",
   "id": "46afe733",
   "metadata": {},
   "source": [
    "#### 1.1.4 tests_malaysia.csv\n",
    "\n",
    "Daily tests (note: not necessarily unique individuals) by type at country level.\n",
    "\n",
    "1. `date`: yyyy-mm-dd format; data correct as of 1200hrs on that date\n",
    "2. `rtk-ag`: number of tests done using Antigen Rapid Test Kits (RTK-Ag)\n",
    "3. `pcr`: number of tests done using Real-time Reverse Transcription Polymerase Chain Reaction (RT-PCR) technology"
   ]
  },
  {
   "cell_type": "code",
   "execution_count": null,
   "id": "1c662619",
   "metadata": {
    "scrolled": true
   },
   "outputs": [],
   "source": [
    "tests_malaysia.info()"
   ]
  },
  {
   "cell_type": "code",
   "execution_count": null,
   "id": "77b8672a",
   "metadata": {
    "scrolled": true
   },
   "outputs": [],
   "source": [
    "tests_malaysia"
   ]
  },
  {
   "cell_type": "code",
   "execution_count": null,
   "id": "b4243f37",
   "metadata": {},
   "outputs": [],
   "source": [
    "tests_malaysia_months = add_month(tests_malaysia)\n",
    "tests_malaysia_months_count = count_by_months(tests_malaysia_months)\n",
    "#tests_malaysia_months_count"
   ]
  },
  {
   "cell_type": "code",
   "execution_count": null,
   "id": "3aa5c62f",
   "metadata": {},
   "outputs": [],
   "source": [
    "plt.figure(figsize=(40,10))\n",
    "\n",
    "cols = [\"rtk-ag\", \"pcr\"]\n",
    "\n",
    "for i in range(len(cols)):\n",
    "    plt.subplot(len(cols),1,1+i)\n",
    "    sns.barplot(x='month', y=cols[i], data=tests_malaysia_months_count, palette='rocket')"
   ]
  },
  {
   "cell_type": "markdown",
   "id": "cb429edc",
   "metadata": {},
   "source": [
    "#### 1.1.5 tests_state.csv\n",
    "\n",
    "Daily tests (note: not necessarily unique individuals) by type at state level.\n",
    "\n",
    "1. `date`: yyyy-mm-dd format; data correct as of 1200hrs on that date\n",
    "2. `state`: name of state (present in state file, but not country file)\n",
    "3. `rtk-ag`: number of tests done using Antigen Rapid Test Kits (RTK-Ag)\n",
    "4. `pcr`: number of tests done using Real-time Reverse Transcription Polymerase Chain Reaction (RT-PCR) technology"
   ]
  },
  {
   "cell_type": "code",
   "execution_count": null,
   "id": "0048e4c8",
   "metadata": {
    "scrolled": true
   },
   "outputs": [],
   "source": [
    "tests_state.info()"
   ]
  },
  {
   "cell_type": "code",
   "execution_count": null,
   "id": "35b6ac63",
   "metadata": {
    "scrolled": true
   },
   "outputs": [],
   "source": [
    "tests_state"
   ]
  },
  {
   "cell_type": "markdown",
   "id": "02de3bcb",
   "metadata": {},
   "source": [
    "### 1.2 Deaths\n",
    "\n",
    "1. `date`: yyyy-mm-dd format; data correct as of 1200hrs on that date\n",
    "2. `state`: name of state (present in state file, but not country file)\n",
    "3. `deaths_new`: deaths due to COVID-19 reported in the 24h since the last report"
   ]
  },
  {
   "cell_type": "markdown",
   "id": "0062c805",
   "metadata": {},
   "source": [
    "#### 1.2.1 deaths_malaysia.csv\n",
    "\n",
    "Daily deaths due to COVID-19 at country level."
   ]
  },
  {
   "cell_type": "code",
   "execution_count": null,
   "id": "8b01ab80",
   "metadata": {},
   "outputs": [],
   "source": [
    "deaths_malaysia.info()"
   ]
  },
  {
   "cell_type": "code",
   "execution_count": null,
   "id": "bb24c9e1",
   "metadata": {},
   "outputs": [],
   "source": [
    "deaths_malaysia"
   ]
  },
  {
   "cell_type": "markdown",
   "id": "b47fd601",
   "metadata": {},
   "source": [
    "#### 1.2.2 deaths_state.csv\n",
    "\n",
    "Daily deaths due to COVID-19 at state level."
   ]
  },
  {
   "cell_type": "code",
   "execution_count": null,
   "id": "bb9e1025",
   "metadata": {},
   "outputs": [],
   "source": [
    "deaths_state.info()"
   ]
  },
  {
   "cell_type": "code",
   "execution_count": null,
   "id": "2ee24d0a",
   "metadata": {
    "scrolled": true
   },
   "outputs": [],
   "source": [
    "deaths_state"
   ]
  },
  {
   "cell_type": "markdown",
   "id": "0f4e2d95",
   "metadata": {},
   "source": [
    "### 1.3 Healthcare"
   ]
  },
  {
   "cell_type": "markdown",
   "id": "51868508",
   "metadata": {},
   "source": [
    "#### 1.3.1 hospital.csv\n",
    "\n",
    "Flow of patients to/out of hospitals, with capacity and utilisation.\n",
    "\n",
    "1. `date`: yyyy-mm-dd format; data correct as of 2359hrs on that date\n",
    "2. `state`: name of state, with similar qualification on exhaustiveness of date-state combos as PKRC data\n",
    "3. `beds`: total hospital beds (with related medical infrastructure)\n",
    "3. `beds_covid`: total beds dedicated for COVID-19\n",
    "4. `beds_noncrit`: total hospital beds for non-critical care\n",
    "5. `admitted_x`: number of individuals in category `x` admitted to hospitals, where `x` can be suspected/probable, COVID-19 positive, or non-COVID\n",
    "6. `discharged_x`: number of individuals in category `x` discharged from hospitals\n",
    "7. `hosp_x`: total number of individuals in category `x` in hospitals; this is a stock variable altered by flows from admissions and discharges\n"
   ]
  },
  {
   "cell_type": "code",
   "execution_count": null,
   "id": "1b59c10b",
   "metadata": {},
   "outputs": [],
   "source": [
    "hospital.info()"
   ]
  },
  {
   "cell_type": "code",
   "execution_count": null,
   "id": "ff0ff835",
   "metadata": {
    "scrolled": true
   },
   "outputs": [],
   "source": [
    "hospital"
   ]
  },
  {
   "cell_type": "markdown",
   "id": "2aed47f3",
   "metadata": {},
   "source": [
    "#### 1.3.2 icu.csv\n",
    "\n",
    "Capacity and utilisation of intensive care unit (ICU) beds.\n",
    "\n",
    "1. `date`: yyyy-mm-dd format; data correct as of 2359hrs on that date\n",
    "2. `state`: name of state, with similar qualification on exhaustiveness of date-state combos as PKRC data\n",
    "3. `beds_icu`: total gazetted ICU beds\n",
    "4. `beds_icu_rep`: total beds aside from (3) which are temporarily or permanently designated to be under the care of Anaesthesiology & Critical Care departments\n",
    "5. `beds_icu_total`: total critical care beds available (with related medical infrastructure)\n",
    "6. `beds_icu_covid`: total critical care beds dedicated for COVID-19\n",
    "7. `vent`: total available ventilators\n",
    "8. `vent_port`: total available portable ventilators\n",
    "9. `icu_x`: total number of individuals in category `x` under intensive care, where `x` can be  suspected/probable, COVID-19 positive, or non-COVID; this is a stock variable\n",
    "10. `vent_x`: total number of individuals in category `x` on mechanical ventilation, where `x` can be suspected/probable, COVID-19 positive, or non-COVID; this is a stock variable"
   ]
  },
  {
   "cell_type": "code",
   "execution_count": null,
   "id": "236d4629",
   "metadata": {},
   "outputs": [],
   "source": [
    "icu.info()"
   ]
  },
  {
   "cell_type": "code",
   "execution_count": null,
   "id": "132b235d",
   "metadata": {
    "scrolled": true
   },
   "outputs": [],
   "source": [
    "icu"
   ]
  },
  {
   "cell_type": "markdown",
   "id": "2ce1dda5",
   "metadata": {},
   "source": [
    "#### 1.3.3 pkrc.csv\n",
    "\n",
    "Flow of patients to/out of Covid-19 Quarantine and Treatment Centres (PKRC), with capacity and utilisation.\n",
    "\n",
    "1. `date`: yyyy-mm-dd format; data correct as of 2359hrs on that date\n",
    "2. `state`: name of state; note that (unlike with other datasets), it is not necessary that there be an observation for every state on every date. for instance, there are no PKRCs in W.P. Kuala Lumpur and W.P Putrajaya.\n",
    "3. `beds`: total PKRC beds (with related medical infrastructure)\n",
    "4. `admitted_x`: number of individuals in category `x` admitted to PKRCs, where `x` can be suspected/probable, COVID-19 positive, or non-COVID\n",
    "5. `discharged_x`: number of individuals in category `x` discharged from PKRCs\n",
    "6. `pkrc_x`: total number of individuals in category `x` in PKRCs; this is a stock variable altered by flows from admissions and discharges\n"
   ]
  },
  {
   "cell_type": "code",
   "execution_count": null,
   "id": "3b9be25a",
   "metadata": {},
   "outputs": [],
   "source": [
    "pkrc.info()"
   ]
  },
  {
   "cell_type": "code",
   "execution_count": null,
   "id": "616e922d",
   "metadata": {
    "scrolled": true
   },
   "outputs": [],
   "source": [
    "pkrc"
   ]
  },
  {
   "cell_type": "markdown",
   "id": "f8e7c747",
   "metadata": {},
   "source": [
    "### 1.4 Static Data"
   ]
  },
  {
   "cell_type": "markdown",
   "id": "11fff73b",
   "metadata": {},
   "source": [
    "#### 1.4.1 population.csv\n",
    "\n",
    "Total, adult (≥18), and elderly (≥60) population at state level."
   ]
  },
  {
   "cell_type": "code",
   "execution_count": null,
   "id": "6a961e68",
   "metadata": {},
   "outputs": [],
   "source": [
    "population.info()"
   ]
  },
  {
   "cell_type": "code",
   "execution_count": null,
   "id": "cdf9b1ae",
   "metadata": {
    "scrolled": true
   },
   "outputs": [],
   "source": [
    "population"
   ]
  },
  {
   "cell_type": "code",
   "execution_count": null,
   "id": "a46629e5",
   "metadata": {},
   "outputs": [],
   "source": [
    "state_population = population.drop(0) # drop Malaysia population\n",
    "state_population.reset_index(inplace=True, drop=True)\n",
    "\n",
    "plt.figure(figsize=(30,30))\n",
    "plt.subplot(311)\n",
    "sns.barplot(x='state', y='pop', data=state_population, palette='mako')\n",
    "plt.subplot(312)\n",
    "sns.barplot(x='state', y='pop_18', data=state_population, palette='mako')\n",
    "plt.subplot(313)\n",
    "sns.barplot(x='state', y='pop_60', data=state_population, palette='mako')"
   ]
  },
  {
   "cell_type": "markdown",
   "id": "e00c72e4",
   "metadata": {},
   "source": [
    "### 1.5 Outliers Detection"
   ]
  },
  {
   "cell_type": "code",
   "execution_count": null,
   "id": "841d7fc7",
   "metadata": {
    "scrolled": true
   },
   "outputs": [],
   "source": [
    "def check_outlier(df):\n",
    "    numeric_columns = df.describe().copy()\n",
    "    num_of_columns = len(numeric_columns.columns)\n",
    "    \n",
    "    for count, column in enumerate(numeric_columns):\n",
    "        plt.figure(figsize=(20,5))\n",
    "        plt.subplot(num_of_columns, 1, count+1)\n",
    "        plot_boxplot(df[column], xlabel=column)\n",
    "    plt.show()\n",
    "    \n",
    "def plot_boxplot(series, title='', xlabel=''):\n",
    "    bp = sns.boxplot(x=series)\n",
    "    bp.set(title=title,\n",
    "           xlabel=xlabel)\n",
    "    #plt.show()"
   ]
  },
  {
   "cell_type": "code",
   "execution_count": null,
   "id": "9d667ac8",
   "metadata": {},
   "outputs": [],
   "source": [
    "check_outlier(cases_malaysia)"
   ]
  },
  {
   "cell_type": "code",
   "execution_count": null,
   "id": "ff8e46cf",
   "metadata": {},
   "outputs": [],
   "source": [
    "check_outlier(cases_state)"
   ]
  },
  {
   "cell_type": "code",
   "execution_count": null,
   "id": "c80cf03a",
   "metadata": {},
   "outputs": [],
   "source": [
    "check_outlier(clusters)"
   ]
  },
  {
   "cell_type": "code",
   "execution_count": null,
   "id": "a09d4978",
   "metadata": {},
   "outputs": [],
   "source": [
    "check_outlier(tests_malaysia)"
   ]
  },
  {
   "cell_type": "code",
   "execution_count": null,
   "id": "392be592",
   "metadata": {},
   "outputs": [],
   "source": [
    "check_outlier(tests_state)"
   ]
  },
  {
   "cell_type": "markdown",
   "id": "06ad3e21",
   "metadata": {},
   "source": [
    "### 1.6 Identifying Missing Values"
   ]
  },
  {
   "cell_type": "code",
   "execution_count": null,
   "id": "c6a7cbb8",
   "metadata": {},
   "outputs": [],
   "source": [
    "def get_nan(df):\n",
    "    missing_value = df[df.isna().values.any(axis=1)]\n",
    "    rows = missing_value.shape[0]\n",
    "    print(rows, \"rows with missing values\")\n",
    "    \n",
    "    if rows > 0:\n",
    "        print(df.isna().sum(), \"\\n\")"
   ]
  },
  {
   "cell_type": "code",
   "execution_count": null,
   "id": "faabfc45",
   "metadata": {
    "scrolled": true
   },
   "outputs": [],
   "source": [
    "get_nan(cases_malaysia)\n",
    "get_nan(cases_state)\n",
    "get_nan(clusters)\n",
    "get_nan(tests_malaysia)\n",
    "get_nan(tests_state)"
   ]
  },
  {
   "cell_type": "code",
   "execution_count": null,
   "id": "72538715",
   "metadata": {},
   "outputs": [],
   "source": [
    "get_nan(deaths_malaysia)\n",
    "get_nan(deaths_state)"
   ]
  },
  {
   "cell_type": "code",
   "execution_count": null,
   "id": "723544e6",
   "metadata": {},
   "outputs": [],
   "source": [
    "get_nan(hospital)\n",
    "get_nan(icu)\n",
    "get_nan(pkrc)"
   ]
  },
  {
   "cell_type": "code",
   "execution_count": null,
   "id": "e79eb9e9",
   "metadata": {},
   "outputs": [],
   "source": [
    "get_nan(population)"
   ]
  },
  {
   "cell_type": "markdown",
   "id": "2b76cf12",
   "metadata": {},
   "source": [
    "**CSV files with missing values:**\n",
    "\n",
    "1. `cases_malaysia` - 342 out of 596 rows\n",
    "2. `cases_state` - 176 out of 9536 rows "
   ]
  },
  {
   "cell_type": "markdown",
   "id": "ecc8fba5",
   "metadata": {},
   "source": [
    "## 2.0 Data Transformation"
   ]
  },
  {
   "cell_type": "code",
   "execution_count": null,
   "id": "3e48f46b",
   "metadata": {
    "scrolled": true
   },
   "outputs": [],
   "source": [
    "# list of unique states\n",
    "states = tests_state['state'].unique()\n",
    "\n",
    "print(len(states))\n",
    "for s in states:\n",
    "    print(s)"
   ]
  },
  {
   "cell_type": "code",
   "execution_count": null,
   "id": "6ef9f499",
   "metadata": {
    "scrolled": true
   },
   "outputs": [],
   "source": [
    "# plot a time series scatterplot according to column\n",
    "# suitable for: cases_state, tests_state, deaths_state\n",
    "\n",
    "def plot_scatterplot(df, column, state_list):\n",
    "    for state in state_list:\n",
    "        temp_df = df[df['state'] == state].copy()\n",
    "        temp_df.reset_index(inplace=True, drop=True)\n",
    "\n",
    "        ax = sns.scatterplot(x='date', y=column, data=temp_df)\n",
    "        plt.title(state)\n",
    "        plt.show()"
   ]
  },
  {
   "cell_type": "code",
   "execution_count": null,
   "id": "42e002a0",
   "metadata": {
    "scrolled": true
   },
   "outputs": [],
   "source": [
    "plot_scatterplot(cases_state, 'cases_new', states)"
   ]
  },
  {
   "cell_type": "markdown",
   "id": "81d33858",
   "metadata": {},
   "source": [
    "### 2.1 Merging"
   ]
  },
  {
   "cell_type": "markdown",
   "id": "3ffc06ef",
   "metadata": {},
   "source": [
    "Merging `cases_state`, `tests_state`, and `deaths_state`.\n",
    "\n",
    "However, these 3 datasets have different starting date and ending date.\n",
    "\n",
    "| Dataset         | Start date | End date   | Number of rows |\n",
    "| --------------- | ---------- | ---------- | -------------- |\n",
    "| cases_state     | 2020-01-25 | 2021-09-11 | 9536           |\n",
    "| tests_state     | 2021-07-01 | 2021-09-08 | 1120           |\n",
    "| deaths_state    | 2020-03-17 | 2021-09-11 | 8704           |\n",
    "\n",
    "Hence we selected the timeframe: `2021-07-01` to `2021-09-08` (70 days) which is covered in all 3 datasets. First we performed an inner merge between cases_state with tests_state. Then we merged the resulting dataframe with deaths_state."
   ]
  },
  {
   "cell_type": "code",
   "execution_count": null,
   "id": "d23db878",
   "metadata": {},
   "outputs": [],
   "source": [
    "tests_state"
   ]
  },
  {
   "cell_type": "code",
   "execution_count": null,
   "id": "ddf26578",
   "metadata": {
    "scrolled": true
   },
   "outputs": [],
   "source": [
    "# merge tests_state and cases_state together\n",
    "df_inner_join = (pd.merge(tests_state, cases_state, on='date', how='inner', indicator=True)).set_index('date')\n",
    "df_cases_state = df_inner_join[df_inner_join['state_x'] == df_inner_join['state_y']].copy()\n",
    "df_cases_state.drop(['state_y', '_merge'], axis=1, inplace=True)\n",
    "\n",
    "# merge deaths_state\n",
    "df_inner_join_2 = (pd.merge(df_cases_state, deaths_state, on='date', how='inner', indicator=True)).set_index('date')\n",
    "df_cases_tests_deaths = df_inner_join_2[df_inner_join_2['state_x'] == df_inner_join_2['state']].copy()\n",
    "df_cases_tests_deaths.drop(['state', '_merge'], axis=1, inplace=True)\n",
    "df_cases_tests_deaths.rename(columns={'state_x': 'state'}, inplace=True)\n",
    "\n",
    "# reset index\n",
    "df_cases_tests_deaths.reset_index(inplace = True)\n",
    "\n",
    "# rearranging the columns\n",
    "cols = df_cases_tests_deaths.columns.tolist()\n",
    "df_cases_tests_deaths = df_cases_tests_deaths[cols[:2]+cols[4:7]+cols[2:4]+cols[7:]]\n",
    "df_cases_tests_deaths"
   ]
  },
  {
   "cell_type": "code",
   "execution_count": null,
   "id": "a13bb65d",
   "metadata": {
    "scrolled": true
   },
   "outputs": [],
   "source": [
    "df_cases_tests_deaths.info()"
   ]
  },
  {
   "cell_type": "markdown",
   "id": "8fe5854a",
   "metadata": {},
   "source": [
    "Checking if there is any missing value."
   ]
  },
  {
   "cell_type": "code",
   "execution_count": null,
   "id": "e8e8b5b7",
   "metadata": {},
   "outputs": [],
   "source": [
    "get_nan(df_cases_tests_deaths)"
   ]
  },
  {
   "cell_type": "markdown",
   "id": "8f0a0d21",
   "metadata": {},
   "source": [
    "Checking for outliers."
   ]
  },
  {
   "cell_type": "code",
   "execution_count": null,
   "id": "d90db7aa",
   "metadata": {},
   "outputs": [],
   "source": [
    "check_outlier(df_cases_tests_deaths)"
   ]
  },
  {
   "cell_type": "markdown",
   "id": "d25a38c3",
   "metadata": {},
   "source": [
    "The columns in `df_cases_tests_deaths`\n",
    "\n",
    "1. `date`: yyyy-mm-dd format; data correct as of 1200hrs on that date\n",
    "2. `state`: name of state (present in state file, but not country file) \n",
    "3. `cases_import`: \n",
    "4. `cases_new`: cases reported in the 24h since the last report (except for 16th March 2020, for which the data is cumulative)\n",
    "5. `cases_recovered`:\n",
    "6. `rtk-ag`: number of tests done using Antigen Rapid Test Kits (RTK-Ag)\n",
    "7. `pcr`: number of tests done using Real-time Reverse Transcription Polymerase Chain Reaction (RT-PCR) technologyb\n",
    "8. `deaths_new`: deaths due to COVID-19 reported in the 24h since the last report\n",
    "9. `deaths_new_dod`:\n",
    "10. `deaths_bid`:  \n",
    "11. `deaths_bid_dod`:"
   ]
  },
  {
   "cell_type": "markdown",
   "id": "73424ba0",
   "metadata": {},
   "source": [
    "### 2.2 Binning"
   ]
  },
  {
   "cell_type": "markdown",
   "id": "a0e15094",
   "metadata": {},
   "source": [
    "Binning is applied to the `cases_new` column of the above cleaned data. This essential for building a classification model later."
   ]
  },
  {
   "cell_type": "code",
   "execution_count": null,
   "id": "adcefb17",
   "metadata": {},
   "outputs": [],
   "source": [
    "sns.displot(df_cases_tests_deaths, x='cases_new')\n",
    "plt.show()"
   ]
  },
  {
   "cell_type": "code",
   "execution_count": null,
   "id": "b199fde2",
   "metadata": {},
   "outputs": [],
   "source": [
    "bins = np.linspace(min(df_cases_tests_deaths['cases_new']), max(df_cases_tests_deaths['cases_new']), 4)\n",
    "bins"
   ]
  },
  {
   "cell_type": "code",
   "execution_count": null,
   "id": "b3f1a34a",
   "metadata": {},
   "outputs": [],
   "source": [
    "group_names = ['High', 'Moderate', 'Low']\n",
    "df_cases_tests_deaths['cases_new_binned'] = pd.cut(df_cases_tests_deaths['cases_new'], bins, labels=group_names, include_lowest=True)\n",
    "\n",
    "df_cases_tests_deaths.head()"
   ]
  },
  {
   "cell_type": "code",
   "execution_count": null,
   "id": "b65a62b2",
   "metadata": {},
   "outputs": [],
   "source": [
    "plt.bar(group_names, df_cases_tests_deaths['cases_new_binned'].value_counts())\n",
    "plt.title('Daily Cases Distribution')\n",
    "plt.xlabel('Daily New Cases')\n",
    "plt.ylabel('Frequency')"
   ]
  },
  {
   "cell_type": "markdown",
   "id": "8f563371",
   "metadata": {},
   "source": [
    "## 3.0 Correlation Check\n",
    "\n",
    "Observing the strong features and indicators to daily cases for all states"
   ]
  },
  {
   "cell_type": "markdown",
   "id": "b6966a06",
   "metadata": {},
   "source": [
    "### 3.1 Correlation within a State"
   ]
  },
  {
   "cell_type": "markdown",
   "id": "12a897df",
   "metadata": {},
   "source": [
    "#### 3.1.1 Heatmaps"
   ]
  },
  {
   "cell_type": "code",
   "execution_count": null,
   "id": "a4780477",
   "metadata": {},
   "outputs": [],
   "source": [
    "corr_msia = df_cases_tests_deaths.corr()\n",
    "plt.figure(figsize=(8, 8))\n",
    "sns.heatmap(corr_msia,square=True,annot=True)\n",
    "plt.title('Malaysia')"
   ]
  },
  {
   "cell_type": "code",
   "execution_count": null,
   "id": "27f12c89",
   "metadata": {
    "scrolled": true
   },
   "outputs": [],
   "source": [
    "# plot heatmap of all states\n",
    "for state in states:\n",
    "    df_state = df_cases_tests_deaths[df_cases_tests_deaths['state'] == state].copy()\n",
    "    corr_state = df_state.corr()\n",
    "    \n",
    "    plt.figure(figsize=(8, 8))\n",
    "    sns.heatmap(corr_state,square=True,annot=True)\n",
    "    plt.title(state)\n",
    "    plt.show()"
   ]
  },
  {
   "cell_type": "markdown",
   "id": "3bc35eb5",
   "metadata": {},
   "source": [
    "Upon checking the heatmap of each states, we noticed that **Perlis** and **W.P.Putrajaya** have interesting patterns"
   ]
  },
  {
   "cell_type": "code",
   "execution_count": null,
   "id": "7e3afb83",
   "metadata": {},
   "outputs": [],
   "source": [
    "df_perlis = df_cases_tests_deaths[df_cases_tests_deaths['state'] == 'Perlis'].copy()\n",
    "df_perlis.describe()"
   ]
  },
  {
   "cell_type": "code",
   "execution_count": null,
   "id": "40c9a4ed",
   "metadata": {},
   "outputs": [],
   "source": [
    "df_putrajaya = df_cases_tests_deaths[df_cases_tests_deaths['state'] == 'W.P. Putrajaya'].copy()\n",
    "df_putrajaya.describe()"
   ]
  },
  {
   "cell_type": "markdown",
   "id": "2eb8064c",
   "metadata": {},
   "source": [
    "According to our data, **Perlis** has 0 `cases_import` in total and **W.P. Putrajaya** has 0 `deaths_bid` and `deaths_bid_dod`"
   ]
  },
  {
   "cell_type": "markdown",
   "id": "1ec85bde",
   "metadata": {},
   "source": [
    "#### 3.1.2 Feature Importance\n",
    "\n",
    "Calculating the feature importance score for the regression and classification later."
   ]
  },
  {
   "cell_type": "code",
   "execution_count": null,
   "id": "8522ea43",
   "metadata": {},
   "outputs": [],
   "source": [
    "df_pahang = df_cases_tests_deaths[df_cases_tests_deaths['state'] == 'Pahang'].copy()\n",
    "df_pahang.drop(['date', 'state'], axis=1, inplace=True)\n",
    "df_pahang.reset_index(inplace=True, drop=True)\n",
    "df_pahang"
   ]
  },
  {
   "cell_type": "code",
   "execution_count": null,
   "id": "0ff98c70",
   "metadata": {},
   "outputs": [],
   "source": [
    "X = df_pahang.loc[:, df_pahang.columns.difference(['cases_new', 'cases_new_binned'])]\n",
    "y = df_pahang.loc[:, df_pahang.columns == 'cases_new']"
   ]
  },
  {
   "cell_type": "code",
   "execution_count": null,
   "id": "0de9b016",
   "metadata": {},
   "outputs": [],
   "source": [
    "# define the model\n",
    "model = LinearRegression()\n",
    "# fit the model\n",
    "model.fit(X, y)\n",
    "# get importance\n",
    "importance = model.coef_[0]"
   ]
  },
  {
   "cell_type": "code",
   "execution_count": null,
   "id": "f441900c",
   "metadata": {},
   "outputs": [],
   "source": [
    "for i, col in enumerate(X.columns):\n",
    "    print(col, importance[i])"
   ]
  },
  {
   "cell_type": "code",
   "execution_count": null,
   "id": "f6648736",
   "metadata": {},
   "outputs": [],
   "source": [
    "from sklearn.tree import DecisionTreeRegressor\n",
    "\n",
    "# define the model\n",
    "model = DecisionTreeRegressor()\n",
    "# fit the model\n",
    "model.fit(X, y)\n",
    "# get importance\n",
    "importance = model.feature_importances_\n",
    "\n",
    "for i, col in enumerate(X.columns):\n",
    "    print(col, importance[i])"
   ]
  },
  {
   "cell_type": "code",
   "execution_count": null,
   "id": "e13eda81",
   "metadata": {},
   "outputs": [],
   "source": [
    "\n",
    "# decision tree for feature importance on a classification problem\n",
    "from sklearn.datasets import make_classification\n",
    "from sklearn.tree import DecisionTreeClassifier\n",
    "X, y = make_classification(n_samples=1000, n_features=10, n_informative=5, n_redundant=5, random_state=1)\n",
    "# define the model"
   ]
  },
  {
   "cell_type": "code",
   "execution_count": null,
   "id": "d697824f",
   "metadata": {},
   "outputs": [],
   "source": [
    "# separates the date column into year, month, day and drops the column\n",
    "\n",
    "def separate_df_date(df):\n",
    "    df_temp = df.copy()\n",
    "    \n",
    "    df_temp['date'].replace('-', ' ', regex=True, inplace=True)\n",
    "    date = df_temp['date'].str.split(' ', n=2, expand=True)\n",
    "    date.columns = ['year','month','day']\n",
    "\n",
    "    df_temp.drop(['date'], axis=1, inplace=True)\n",
    "\n",
    "    df_temp = pd.concat([date, cases_state_ymd], axis=1)\n",
    "\n",
    "    return df_temp"
   ]
  },
  {
   "cell_type": "markdown",
   "id": "daea23b5",
   "metadata": {},
   "source": [
    "### 3.2 Correlation between States"
   ]
  },
  {
   "cell_type": "code",
   "execution_count": null,
   "id": "23fd8598",
   "metadata": {
    "scrolled": true
   },
   "outputs": [],
   "source": [
    "# selects a target state and compare with other states\n",
    "\n",
    "def check_correlation(df, column, target_state, plot=False):\n",
    "    \n",
    "    target_df = df[df['state'] == target_state].copy()\n",
    "    target_df.reset_index(inplace=True, drop=True)\n",
    "    \n",
    "    state_list = df['state'].unique()\n",
    "    for state in state_list:\n",
    "        if state == target_state:\n",
    "            continue\n",
    "        \n",
    "        temp_df = df[df['state'] == state].copy()\n",
    "        temp_df.reset_index(inplace=True, drop=True)\n",
    "        \n",
    "        print(target_state, '&', state, target_df[column].corr(temp_df[column]))\n",
    "        \n",
    "        if plot: # plots scatterplot\n",
    "            plt.scatter(target_df[column], temp_df[column])\n",
    "            plt.xlabel(target_state)\n",
    "            plt.ylabel(state)\n",
    "            plt.show()"
   ]
  },
  {
   "cell_type": "code",
   "execution_count": null,
   "id": "7bc4b3ff",
   "metadata": {},
   "outputs": [],
   "source": [
    "df_cases_tests_deaths"
   ]
  },
  {
   "cell_type": "code",
   "execution_count": null,
   "id": "45d4c0f4",
   "metadata": {},
   "outputs": [],
   "source": [
    "numeric_columns = df_cases_tests_deaths.describe().columns\n",
    "\n",
    "for col in numeric_columns:\n",
    "    print('=============', col, '=============')\n",
    "    check_correlation(df_cases_tests_deaths, col, 'Pahang')\n",
    "    print()"
   ]
  },
  {
   "cell_type": "code",
   "execution_count": null,
   "id": "ecf92e81",
   "metadata": {},
   "outputs": [],
   "source": [
    "for col in numeric_columns:\n",
    "    print('=============', col, '=============')\n",
    "    check_correlation(df_cases_tests_deaths, col, 'Johor')\n",
    "    print()"
   ]
  },
  {
   "cell_type": "markdown",
   "id": "0217f078-17c6-4675-8ddc-8841c23ebfcb",
   "metadata": {},
   "source": [
    "## 3.0 Building Prediction Models"
   ]
  },
  {
   "cell_type": "markdown",
   "id": "1a09c6d5",
   "metadata": {},
   "source": [
    "Select specific data from specific states ('Pahang', 'Kedah', 'Johor', 'Selangor') for building regression and classification models."
   ]
  },
  {
   "cell_type": "code",
   "execution_count": null,
   "id": "e7a2b72e",
   "metadata": {},
   "outputs": [],
   "source": [
    "df_predict = df_cases_tests_deaths.copy()\n",
    "\n",
    "df_predict = df_predict.loc[(df_predict['state']=='Pahang') | (df_predict['state'] == 'Kedah') |\n",
    "                            (df_predict['state'] == 'Johor') | (df_predict['state'] == 'Selangor'), :]\n",
    "\n",
    "df_predict.drop(['date', 'state'], axis=1, inplace=True)\n",
    "df_predict"
   ]
  },
  {
   "cell_type": "markdown",
   "id": "c1ad4a3c-7772-4434-998e-4b6ed88b88c6",
   "metadata": {},
   "source": [
    "### 3.1 Regression Models\n",
    "\n",
    "Regression models that will be used:\n",
    "1. Linear Regression\n",
    "2. Decision Tree Regressor\n",
    "3. Random Forest Regressor\n",
    "\n",
    "Evaluation matrics that will be used:\n",
    "1. R Square => (0, 1)\n",
    "2. Mean Absolute Error(MAE)\n",
    "\n",
    "\n",
    "3. Mean Square Error(MSE)/Root Mean Square Error(RMSE)"
   ]
  },
  {
   "cell_type": "code",
   "execution_count": null,
   "id": "ea05abb7-52fa-4c34-a62c-0adc765fc0b4",
   "metadata": {},
   "outputs": [],
   "source": [
    "X = df_predict.loc[:, df_predict.columns.difference(['cases_new', 'cases_new_binned'])]\n",
    "y = df_predict.loc[:, df_predict.columns == 'cases_new']"
   ]
  },
  {
   "cell_type": "code",
   "execution_count": null,
   "id": "d5a08f52",
   "metadata": {},
   "outputs": [],
   "source": [
    "X_train, X_test, y_train, y_test = train_test_split(X, y, test_size=0.2, random_state=0)"
   ]
  },
  {
   "cell_type": "markdown",
   "id": "f0b3e53f",
   "metadata": {},
   "source": [
    "#### 3.1.1 Linear Regression\n",
    "\n",
    "https://scikit-learn.org/stable/modules/generated/sklearn.linear_model.LinearRegression.html"
   ]
  },
  {
   "cell_type": "code",
   "execution_count": null,
   "id": "04e2fadc",
   "metadata": {
    "scrolled": true
   },
   "outputs": [],
   "source": [
    "reg = LinearRegression()\n",
    "\n",
    "reg = reg.fit(X_train, y_train)\n",
    "\n",
    "y_pred = reg.predict(X_test)\n",
    "y_pred"
   ]
  },
  {
   "cell_type": "code",
   "execution_count": null,
   "id": "a519a6b3",
   "metadata": {},
   "outputs": [],
   "source": [
    "r2_score(y_test, y_pred)"
   ]
  },
  {
   "cell_type": "code",
   "execution_count": null,
   "id": "52430958",
   "metadata": {},
   "outputs": [],
   "source": [
    "mean_absolute_error(y_test, y_pred)"
   ]
  },
  {
   "cell_type": "markdown",
   "id": "da426196",
   "metadata": {},
   "source": [
    "#### 3.1.2 Decision Tree Regressor\n",
    "\n",
    "https://scikit-learn.org/stable/modules/generated/sklearn.tree.DecisionTreeRegressor.html"
   ]
  },
  {
   "cell_type": "code",
   "execution_count": null,
   "id": "ac564e26",
   "metadata": {},
   "outputs": [],
   "source": [
    "reg = DecisionTreeRegressor(criterion='mse', splitter='random')"
   ]
  },
  {
   "cell_type": "code",
   "execution_count": null,
   "id": "1858e1c8",
   "metadata": {
    "scrolled": true
   },
   "outputs": [],
   "source": [
    "reg = reg.fit(X_train, y_train)\n",
    "\n",
    "y_pred = reg.predict(X_test)\n",
    "y_pred"
   ]
  },
  {
   "cell_type": "code",
   "execution_count": null,
   "id": "b0c242ac",
   "metadata": {},
   "outputs": [],
   "source": [
    "r2_score(y_test, y_pred)"
   ]
  },
  {
   "cell_type": "code",
   "execution_count": null,
   "id": "4e84cb14",
   "metadata": {},
   "outputs": [],
   "source": [
    "mean_absolute_error(y_test, y_pred)"
   ]
  },
  {
   "cell_type": "markdown",
   "id": "03213044",
   "metadata": {},
   "source": [
    "#### 3.1.3 Random Forest Regressor"
   ]
  },
  {
   "cell_type": "code",
   "execution_count": null,
   "id": "ab820792",
   "metadata": {},
   "outputs": [],
   "source": []
  },
  {
   "cell_type": "code",
   "execution_count": null,
   "id": "e08e98d9",
   "metadata": {},
   "outputs": [],
   "source": []
  },
  {
   "cell_type": "code",
   "execution_count": null,
   "id": "9e513c19",
   "metadata": {},
   "outputs": [],
   "source": []
  },
  {
   "cell_type": "markdown",
   "id": "83412648-3cd1-4c77-9d6d-e59de48d6948",
   "metadata": {},
   "source": [
    "### 3.2 Classification Models\n",
    "\n",
    "Classification models that will be used:\n",
    "1. K-Nearest Neighbors Classifier\n",
    "2. Naive Bayes Classifier\n",
    "3. Decision Tree Classifier\n",
    "4. Random Forest Classifier\n",
    "\n",
    "Performance evaluation metrics that will be used:\n",
    "1. Confusion Matrix\n",
    "2. ROC Curve"
   ]
  },
  {
   "cell_type": "markdown",
   "id": "eaf9abbd",
   "metadata": {},
   "source": [
    "We binned the daily new cases into 3 categories."
   ]
  },
  {
   "cell_type": "code",
   "execution_count": null,
   "id": "779b96cc",
   "metadata": {},
   "outputs": [],
   "source": [
    "print(df_predict['cases_new_binned'].value_counts())\n",
    "\n",
    "plt.bar(df_predict['cases_new_binned'].value_counts().index, \n",
    "        df_predict['cases_new_binned'].value_counts())\n",
    "\n",
    "plt.title('Daily Cases Distribution')\n",
    "plt.xlabel('Daily New Cases')\n",
    "plt.ylabel('Frequency')"
   ]
  },
  {
   "cell_type": "markdown",
   "id": "1277255c",
   "metadata": {},
   "source": [
    "However, the results shows that the data is highly imbalanced."
   ]
  },
  {
   "cell_type": "code",
   "execution_count": null,
   "id": "6cac3002",
   "metadata": {},
   "outputs": [],
   "source": [
    "# encoding\n",
    "encode = {\"High\": 0, \"Moderate\": 1, \"Low\": 2}\n",
    "\n",
    "df_predict_2 = df_predict.copy()\n",
    "df_predict_2['cases_new_binned'] = df_predict_2['cases_new_binned'].map(encode)"
   ]
  },
  {
   "cell_type": "code",
   "execution_count": null,
   "id": "b077bfe9-1cd1-4cdd-8cf7-d7eda991f6a9",
   "metadata": {},
   "outputs": [],
   "source": [
    "X = df_predict_2.loc[:, df_predict_2.columns.difference(['cases_new', 'cases_new_binned'])]\n",
    "y = df_predict_2[['cases_new_binned']]\n",
    "\n",
    "print(X.shape)\n",
    "print(y.shape)"
   ]
  },
  {
   "cell_type": "markdown",
   "id": "f2536b3b",
   "metadata": {},
   "source": [
    "Applying **SMOTE** to balance the data.\n",
    "\n",
    "Reference: https://machinelearningmastery.com/smote-oversampling-for-imbalanced-classification"
   ]
  },
  {
   "cell_type": "code",
   "execution_count": null,
   "id": "79fd613e",
   "metadata": {},
   "outputs": [],
   "source": [
    "print(\"--Before--\")\n",
    "counter = Counter(y['cases_new_binned'])\n",
    "print(counter)\n",
    "\n",
    "oversample = SMOTE()\n",
    "X, y = oversample.fit_resample(X, y)\n",
    "\n",
    "print(\"--After--\")\n",
    "counter = Counter(y['cases_new_binned'])\n",
    "print(counter)\n",
    "\n",
    "print(X.shape)\n",
    "print(y.shape)"
   ]
  },
  {
   "cell_type": "code",
   "execution_count": null,
   "id": "ca485ec2",
   "metadata": {},
   "outputs": [],
   "source": [
    "y.cases_new_binned.value_counts()"
   ]
  },
  {
   "cell_type": "code",
   "execution_count": null,
   "id": "dd027bcb",
   "metadata": {},
   "outputs": [],
   "source": [
    "X_train, X_test, y_train, y_test = train_test_split(X, y, test_size=0.2, random_state=0)"
   ]
  },
  {
   "cell_type": "markdown",
   "id": "e710f79f",
   "metadata": {},
   "source": [
    "#### 3.2.1 K-Nearest Neighbors (KNN) Classifier\n",
    "\n",
    "https://scikit-learn.org/stable/modules/generated/sklearn.neighbors.KNeighborsClassifier.html"
   ]
  },
  {
   "cell_type": "code",
   "execution_count": null,
   "id": "cff38391",
   "metadata": {},
   "outputs": [],
   "source": [
    "clf_KNN = KNeighborsClassifier(n_neighbors=3)\n",
    "\n",
    "clf_KNN = clf_KNN.fit(X_train, np.ravel(y_train))\n",
    "\n",
    "y_pred = clf_KNN.predict(X_test)\n",
    "\n",
    "print(\"Accuracy on training set: {:.5f}\".format(clf_KNN.score(X_train, y_train)))\n",
    "print(\"Accuracy on test set:     {:.5f}\".format(clf_KNN.score(X_test, y_test)))"
   ]
  },
  {
   "cell_type": "code",
   "execution_count": null,
   "id": "a69b071b",
   "metadata": {},
   "outputs": [],
   "source": [
    "fig,ax = plt.subplots(figsize = (5,5))\n",
    "\n",
    "ax.set_title(\"K-Nearest Neighbors Confusion Matrix\")\n",
    "\n",
    "cm = confusion_matrix(y_test, y_pred)\n",
    "display = ConfusionMatrixDisplay(confusion_matrix=cm)\n",
    "display.plot(cmap = 'Greens', \n",
    "             xticks_rotation ='vertical', \n",
    "             ax=ax)"
   ]
  },
  {
   "cell_type": "markdown",
   "id": "8e6919de",
   "metadata": {},
   "source": [
    "#### 3.2.2 Naïve Bayes Classifier\n",
    "\n",
    "https://scikit-learn.org/stable/modules/generated/sklearn.naive_bayes.GaussianNB.html"
   ]
  },
  {
   "cell_type": "code",
   "execution_count": null,
   "id": "ab549f48",
   "metadata": {},
   "outputs": [],
   "source": [
    "clf_NB = GaussianNB()\n",
    "\n",
    "clf_NB = clf_NB.fit(X_train, np.ravel(y_train))\n",
    "\n",
    "y_pred = clf_NB.predict(X_test)\n",
    "\n",
    "print(\"Accuracy on training set: {:.5f}\".format(clf_NB.score(X_train, y_train)))\n",
    "print(\"Accuracy on test set:     {:.5f}\".format(clf_NB.score(X_test, y_test)))"
   ]
  },
  {
   "cell_type": "code",
   "execution_count": null,
   "id": "cd5658e4",
   "metadata": {},
   "outputs": [],
   "source": [
    "fig,ax = plt.subplots(figsize = (5,5))\n",
    "\n",
    "ax.set_title(\"Naive Bayes Classifier Confusion Matrix\")\n",
    "\n",
    "cm = confusion_matrix(y_test, y_pred)\n",
    "display = ConfusionMatrixDisplay(confusion_matrix=cm)\n",
    "display.plot(cmap = 'Greens', \n",
    "             xticks_rotation ='vertical', \n",
    "             ax=ax)"
   ]
  },
  {
   "cell_type": "markdown",
   "id": "c4afe2a9",
   "metadata": {},
   "source": [
    "#### 3.2.3 Decision Tree Classifier\n",
    "\n",
    "https://scikit-learn.org/stable/modules/generated/sklearn.tree.DecisionTreeClassifier.html"
   ]
  },
  {
   "cell_type": "code",
   "execution_count": null,
   "id": "fe1f34c9",
   "metadata": {},
   "outputs": [],
   "source": [
    "clf_DT = DecisionTreeClassifier(criterion='entropy', max_depth=7, splitter='best')\n",
    "\n",
    "clf_DT = clf_DT.fit(X_train, y_train)\n",
    "\n",
    "y_pred = clf_DT.predict(X_test)\n",
    "\n",
    "print(\"Accuracy on training set: {:.5f}\".format(clf_DT.score(X_train, y_train)))\n",
    "print(\"Accuracy on test set:     {:.5f}\".format(clf_DT.score(X_test, y_test)))"
   ]
  },
  {
   "cell_type": "code",
   "execution_count": null,
   "id": "b987b0b3",
   "metadata": {},
   "outputs": [],
   "source": [
    "fig,ax = plt.subplots(figsize = (5,5))\n",
    "\n",
    "ax.set_title(\"Decision Tree Classifier Confusion Matrix\")\n",
    "\n",
    "cm = confusion_matrix(y_test, y_pred)\n",
    "display = ConfusionMatrixDisplay(confusion_matrix=cm)\n",
    "display.plot(cmap = 'Greens', \n",
    "             xticks_rotation ='vertical', \n",
    "             ax=ax)"
   ]
  },
  {
   "cell_type": "markdown",
   "id": "c03fa94b",
   "metadata": {},
   "source": [
    "#### 3.2.4 Random Forest Classifier\n",
    "\n",
    "https://scikit-learn.org/stable/modules/generated/sklearn.ensemble.RandomForestClassifier.html"
   ]
  },
  {
   "cell_type": "code",
   "execution_count": null,
   "id": "088727ff",
   "metadata": {},
   "outputs": [],
   "source": [
    "clf_RF = RandomForestClassifier(max_depth=10, random_state=0)\n",
    "\n",
    "\n",
    "clf_RF = clf_RF.fit(X_train, np.ravel(y_train))\n",
    "\n",
    "y_pred = clf_RF.predict(X_test)\n",
    "\n",
    "print(\"Accuracy on training set: {:.5f}\".format(clf_RF.score(X_train, y_train)))\n",
    "print(\"Accuracy on test set:     {:.5f}\".format(clf_RF.score(X_test, y_test)))"
   ]
  },
  {
   "cell_type": "code",
   "execution_count": null,
   "id": "355a488a",
   "metadata": {},
   "outputs": [],
   "source": [
    "fig,ax = plt.subplots(figsize = (5,5))\n",
    "\n",
    "ax.set_title(\"Random Forest Classifier Confusion Matrix\")\n",
    "\n",
    "cm = confusion_matrix(y_test, y_pred)\n",
    "display = ConfusionMatrixDisplay(confusion_matrix=cm)\n",
    "display.plot(cmap = 'Greens', \n",
    "             xticks_rotation ='vertical', \n",
    "             ax=ax)"
   ]
  },
  {
   "cell_type": "code",
   "execution_count": null,
   "id": "a1c09c00",
   "metadata": {},
   "outputs": [],
   "source": [
    "prob_KNN = clf_KNN.predict_proba(X_test)[:,1]\n",
    "prob_NB = clf_NB.predict_proba(X_test)[:,1]\n",
    "prob_DT = clf_DT.predict_proba(X_test)[:,1]\n",
    "prob_RF = clf_RF.predict_proba(X_test)[:,1]\n",
    "\n",
    "proba = [prob_KNN, prob_NB, prob_DT, prob_RF]\n",
    "color = ['orange', 'blue', 'purple', 'red']\n",
    "label = ['KNN', 'Naive Bayes', 'Decision Tree', 'Random Forest']\n",
    "\n",
    "\n",
    "plt.figure(figsize=(10, 8))\n",
    "for i in range(4):\n",
    "    fpr, tpr, thresholds = roc_curve(y_test, proba[i], pos_label=1)\n",
    "    plt.plot(fpr, tpr, color=color[i], label=label[i]) \n",
    "    \n",
    "plt.plot([0, 1], [0, 1], color='green', linestyle='--')\n",
    "plt.xlabel('False Positive Rate')\n",
    "plt.ylabel('True Positive Rate')\n",
    "plt.title('Receiver Operating Characteristic (ROC) Curve')\n",
    "plt.legend()\n"
   ]
  },
  {
   "cell_type": "markdown",
   "id": "cde6b06f",
   "metadata": {},
   "source": [
    "## Questions"
   ]
  },
  {
   "cell_type": "markdown",
   "id": "febadcc1",
   "metadata": {},
   "source": [
    "**(i) Discuss the exploratory data analysis steps you have conducted including detection of outliers and missing values?**"
   ]
  },
  {
   "cell_type": "markdown",
   "id": "29cdfea7",
   "metadata": {},
   "source": [
    "```\n",
    "ok\n",
    "```"
   ]
  },
  {
   "cell_type": "markdown",
   "id": "82fef9cf",
   "metadata": {},
   "source": [
    "**(ii) What are the states that exhibit strong correlation with (i) Pahang, and (ii) Johor?**"
   ]
  },
  {
   "cell_type": "markdown",
   "id": "a7456e83",
   "metadata": {},
   "source": [
    "```\n",
    "multi-dimension data\n",
    "(matplotlib)\n",
    "```"
   ]
  },
  {
   "cell_type": "markdown",
   "id": "64ed16da",
   "metadata": {},
   "source": [
    "**(iii) What are the strong features/indicators to daily cases for (i) Pahang, (ii) Kedah,\n",
    "(iii) Johor, and (iv) Selangor? [Note: you must use at least 2 methods to justify\n",
    "your findings]**\n"
   ]
  },
  {
   "cell_type": "markdown",
   "id": "3689e302",
   "metadata": {},
   "source": [
    "```\n",
    "one more method\n",
    "\n",
    "feature importance\n",
    "```"
   ]
  },
  {
   "cell_type": "markdown",
   "id": "efa7f3e4",
   "metadata": {},
   "source": [
    "**(iv) Comparing regression and classification models, what model performs well in\n",
    "predicting the daily cases for (i) Pahang, (ii) Kedah, (iii) Johor, and (iv) Selangor?\n",
    "Requirements:**\n",
    "1. Use TWO(2) regression models and TWO(2) classification models\n",
    "2. Use appropriate evaluation metrics.\n"
   ]
  },
  {
   "cell_type": "code",
   "execution_count": null,
   "id": "146ff12c",
   "metadata": {},
   "outputs": [],
   "source": []
  },
  {
   "cell_type": "code",
   "execution_count": null,
   "id": "c4c57d12",
   "metadata": {},
   "outputs": [],
   "source": []
  },
  {
   "cell_type": "markdown",
   "id": "c35e5bf3",
   "metadata": {},
   "source": [
    "## References"
   ]
  },
  {
   "cell_type": "markdown",
   "id": "707e8d2c",
   "metadata": {},
   "source": [
    "https://machinelearningmastery.com/calculate-feature-importance-with-python/#:~:text=Feature%20importance%20refers%20to%20techniques,at%20predicting%20a%20target%20variable.&text=The%20role%20of%20feature%20importance%20in%20a%20predictive%20modeling%20problem."
   ]
  },
  {
   "cell_type": "markdown",
   "id": "d2469ca5",
   "metadata": {},
   "source": [
    "https://towardsdatascience.com/feature-selection-techniques-in-machine-learning-with-python-f24e7da3f36e"
   ]
  }
 ],
 "metadata": {
  "kernelspec": {
   "display_name": "Anaconda (base)",
   "language": "python",
   "name": "anaconda-base"
  },
  "language_info": {
   "codemirror_mode": {
    "name": "ipython",
    "version": 3
   },
   "file_extension": ".py",
   "mimetype": "text/x-python",
   "name": "python",
   "nbconvert_exporter": "python",
   "pygments_lexer": "ipython3",
   "version": "3.8.8"
  }
 },
 "nbformat": 4,
 "nbformat_minor": 5
}
